{
  "nbformat": 4,
  "nbformat_minor": 0,
  "metadata": {
    "colab": {
      "provenance": [],
      "authorship_tag": "ABX9TyOwcCd/loS7pad4GbwuZC/j",
      "include_colab_link": true
    },
    "kernelspec": {
      "name": "python3",
      "display_name": "Python 3"
    },
    "language_info": {
      "name": "python"
    }
  },
  "cells": [
    {
      "cell_type": "markdown",
      "metadata": {
        "id": "view-in-github",
        "colab_type": "text"
      },
      "source": [
        "<a href=\"https://colab.research.google.com/github/cassianoifes/Algritimo/blob/main/Untitled2.ipynb\" target=\"_parent\"><img src=\"https://colab.research.google.com/assets/colab-badge.svg\" alt=\"Open In Colab\"/></a>"
      ]
    },
    {
      "cell_type": "code",
      "execution_count": 2,
      "metadata": {
        "colab": {
          "base_uri": "https://localhost:8080/"
        },
        "id": "fMEYcVXazkY3",
        "outputId": "7eadeac3-aaa8-4ba2-d2a7-eefaf786a936"
      },
      "outputs": [
        {
          "output_type": "stream",
          "name": "stdout",
          "text": [
            "2025\n"
          ]
        }
      ],
      "source": [
        "#7 Escreva um codigo completo....\n",
        "from datetime import datetime\n",
        "ano = datetime.now().year\n",
        "print(ano)"
      ]
    },
    {
      "cell_type": "code",
      "source": [
        "#8 Escreva um programa.....\n",
        "for i in range(0,11):\n",
        " if i % 3 == 0:\n",
        "  continue\n",
        " print(i)"
      ],
      "metadata": {
        "colab": {
          "base_uri": "https://localhost:8080/"
        },
        "id": "ZMFjcf6J0yio",
        "outputId": "f4be2412-1c0e-4524-cf6a-4c4a92ca3260"
      },
      "execution_count": 8,
      "outputs": [
        {
          "output_type": "stream",
          "name": "stdout",
          "text": [
            "1\n",
            "2\n",
            "4\n",
            "5\n",
            "7\n",
            "8\n",
            "10\n"
          ]
        }
      ]
    },
    {
      "cell_type": "code",
      "source": [
        "#9 A função....\n",
        "frase = input('Digite uma frase:')\n",
        "for i in range(len(frase)):\n",
        "  if len(frase)> 10:\n",
        "    print(len(frase))\n",
        "    break\n",
        ""
      ],
      "metadata": {
        "colab": {
          "base_uri": "https://localhost:8080/"
        },
        "id": "6w-TUBT910xY",
        "outputId": "aa1e68bf-bc2f-4686-fce4-329c69928fc3"
      },
      "execution_count": 9,
      "outputs": [
        {
          "output_type": "stream",
          "name": "stdout",
          "text": [
            "Digite uma frase:paralelepipedo\n",
            "14\n"
          ]
        }
      ]
    },
    {
      "cell_type": "code",
      "source": [
        "#10 Em Python.......\n",
        "poteA = input('Digite o valor do poteA:')\n",
        "poteB = input('Digite o valor do poteB:')\n",
        "potea = poteB\n",
        "poteb = poteA\n",
        "print(f'potea e {potea} valor e poteB {poteb} valor')"
      ],
      "metadata": {
        "colab": {
          "base_uri": "https://localhost:8080/"
        },
        "id": "J9c7PTwc22-_",
        "outputId": "a454b601-fc3f-4907-c84d-33ea3f67325c"
      },
      "execution_count": 10,
      "outputs": [
        {
          "output_type": "stream",
          "name": "stdout",
          "text": [
            "Digite o valor do poteA:10\n",
            "Digite o valor do poteB:3\n",
            "potea e 3 valor e poteB 10 valor\n"
          ]
        }
      ]
    }
  ]
}