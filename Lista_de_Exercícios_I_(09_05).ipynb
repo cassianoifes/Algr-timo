{
  "nbformat": 4,
  "nbformat_minor": 0,
  "metadata": {
    "colab": {
      "provenance": [],
      "authorship_tag": "ABX9TyO48uV+yOC3G6H3MZ+NyiSI",
      "include_colab_link": true
    },
    "kernelspec": {
      "name": "python3",
      "display_name": "Python 3"
    },
    "language_info": {
      "name": "python"
    }
  },
  "cells": [
    {
      "cell_type": "markdown",
      "metadata": {
        "id": "view-in-github",
        "colab_type": "text"
      },
      "source": [
        "<a href=\"https://colab.research.google.com/github/cassianoifes/Algr-timo/blob/main/Lista_de_Exerc%C3%ADcios_I_(09_05).ipynb\" target=\"_parent\"><img src=\"https://colab.research.google.com/assets/colab-badge.svg\" alt=\"Open In Colab\"/></a>"
      ]
    },
    {
      "cell_type": "code",
      "execution_count": null,
      "metadata": {
        "colab": {
          "base_uri": "https://localhost:8080/"
        },
        "id": "O68XFWqIZJ2X",
        "outputId": "8a735150-ffc8-4fc6-e7b3-3761012ee6e4"
      },
      "outputs": [
        {
          "output_type": "stream",
          "name": "stdout",
          "text": [
            "Digite um numero: 40\n",
            "40.0 é maior que 50.\n"
          ]
        }
      ],
      "source": [
        "#1. Peça um número ao usuário e verifique se ele é menor que 50. Informe o resultado com uma mensagem.\n",
        "numero = float(input(\"Digite um numero: \"))\n",
        "if numero < 50:\n",
        "  print(f\"{numero } é maior que 50.\")\n",
        "else:\n",
        "  print(f\"{numero} não é menor que 50.\")\n",
        "\n"
      ]
    },
    {
      "cell_type": "code",
      "source": [
        "#2. Solicite um número ao usuário e informe se ele é divisível por 7. Para isso, utilize uma verificação simples.\n",
        "numero = float(input(\"digite um numero: \"))\n",
        "if numero % 7 == 0:\n",
        "  print(f\"{numero} é divisivel por 7.\")\n",
        "else:\n",
        "  print(f\"{numero} não é divisivel por 7.\")\n"
      ],
      "metadata": {
        "colab": {
          "base_uri": "https://localhost:8080/"
        },
        "id": "yqrOVuIGdgSw",
        "outputId": "6a71f769-1782-4276-965f-34c23dbd1f2b"
      },
      "execution_count": null,
      "outputs": [
        {
          "output_type": "stream",
          "name": "stdout",
          "text": [
            "digite um numero: 6\n",
            "6.0 não é divisivel por 7.\n"
          ]
        }
      ]
    },
    {
      "cell_type": "code",
      "source": [
        "#3. Peça um nome ao usuário e verifique se ele contém a letra \"o\". Exiba uma mensagem informando o resultado.\n",
        "nome = input(\"digite um nome: \")\n",
        "if \"0\" in nome:\n",
        "  print(f\"{nome} contém a letra 'o' .\")\n",
        "else:\n",
        "  print(f\"{nome} não contém a letra '0'.\")\n"
      ],
      "metadata": {
        "colab": {
          "base_uri": "https://localhost:8080/"
        },
        "id": "25aXKiOsegYI",
        "outputId": "c92a355e-3dac-4b6e-ebe4-7f0784c0271c"
      },
      "execution_count": null,
      "outputs": [
        {
          "output_type": "stream",
          "name": "stdout",
          "text": [
            "digite um nome: cida\n",
            "cida não contém a letra '0'.\n"
          ]
        }
      ]
    },
    {
      "cell_type": "code",
      "source": [
        "#4. Solicite um número inteiro e verifique se ele termina em 0. Utilize operações matemáticas para essa verificação.\n",
        "numero = int(input(\"digite um numero inteiro:\"))\n",
        "if numero % 10 == 0:\n",
        "  print(f\"{numero} termina em o.\")\n",
        "else:\n",
        "  print(f\"{numero} não termina em o.\")\n"
      ],
      "metadata": {
        "colab": {
          "base_uri": "https://localhost:8080/"
        },
        "id": "HLfJxalef864",
        "outputId": "d1cddbad-1fa7-418e-ea7e-fdb601b011c8"
      },
      "execution_count": null,
      "outputs": [
        {
          "output_type": "stream",
          "name": "stdout",
          "text": [
            "digite um numero inteiro:4\n",
            "4 não termina em o.\n"
          ]
        }
      ]
    },
    {
      "cell_type": "code",
      "source": [
        "#5. Peça a idade de uma pessoa e informe se ela tem idade suficiente para votar (considerando 16 anos como idade mínima).\n",
        "idade = int(input(\"digite a idade da pessoa:\"))\n",
        "if idade >= 16:\n",
        "  print(f\"A pessoa tem {idade} anos e é maior de idade para votar.\")\n",
        "else:\n",
        "  print(f\"A pessoa tem {idade} anos e é menor de idade para votar.\")\n"
      ],
      "metadata": {
        "colab": {
          "base_uri": "https://localhost:8080/"
        },
        "id": "uaStqusRhuTI",
        "outputId": "e67be1ee-8c40-4905-b943-e498d15afd1c"
      },
      "execution_count": null,
      "outputs": [
        {
          "output_type": "stream",
          "name": "stdout",
          "text": [
            "digite a idade da pessoa:4\n",
            "A pessoa tem 4 anos e é menor de idade para votar.\n"
          ]
        }
      ]
    },
    {
      "cell_type": "code",
      "source": [
        "#6. Solicite ao usuário que digite um único caractere e informe se ele é uma vogal (a, e, i, o, u).\n",
        "caractere = input(\"Digite um caractere:\")\n",
        "if caractere.lower()in \"aeiou\":\n",
        "  print(f\"{caractere} é uma vogal.\")\n",
        "else:\n",
        "  print(f\"{caractere} não é uma vogal.\")"
      ],
      "metadata": {
        "colab": {
          "base_uri": "https://localhost:8080/"
        },
        "id": "caJ3Nf0RjNn6",
        "outputId": "4623c55f-9e37-48bb-e7cd-a6300d092672"
      },
      "execution_count": null,
      "outputs": [
        {
          "output_type": "stream",
          "name": "stdout",
          "text": [
            "Digite um caractere:9\n",
            "9 não é uma vogal.\n"
          ]
        }
      ]
    },
    {
      "cell_type": "code",
      "source": [],
      "metadata": {
        "id": "I2LUn30xkiDK"
      },
      "execution_count": null,
      "outputs": []
    },
    {
      "cell_type": "code",
      "source": [
        "#7. Peça a temperatura atual em graus Celsius e classifique-a como \"abaixo de zero\", \"entre 0°C e 20°C\" ou \"acima de 20°C\".\n",
        "temperatura = float(input(\"Digite a temperatura em graus celsius: \"))\n",
        "if temperatura < 0:\n",
        "  print(\"A temperatura é abaixo de zero.\")\n",
        "elif 0 <= temperatura <= 20:\n",
        "  print(\"A temperatura está entre 0°c e 20°c.\")\n",
        "else:\n",
        "  print(\"A termperatura é acima de 20°c.\")"
      ],
      "metadata": {
        "colab": {
          "base_uri": "https://localhost:8080/"
        },
        "id": "IoLW5SPynFrs",
        "outputId": "af2c039b-6710-4bf1-db5e-a0611dc78125"
      },
      "execution_count": null,
      "outputs": [
        {
          "output_type": "stream",
          "name": "stdout",
          "text": [
            "Digite a temperatura em graus celsius: -1\n",
            "A temperatura é abaixo de zero.\n"
          ]
        }
      ]
    },
    {
      "cell_type": "code",
      "source": [
        "#8. Solicite um número e informe se ele é maior que 1000. Exiba uma mensagem apropriada.\n",
        "numero = float(input(\"Digite um numero: \"))\n",
        "if numero > 1000:\n",
        "    print(f\"{numero} é maior que 1000.\")\n",
        "else:\n",
        "    print(f\"{numero} não é maior que 1000.\")"
      ],
      "metadata": {
        "colab": {
          "base_uri": "https://localhost:8080/"
        },
        "id": "3aeEuQn1qFvZ",
        "outputId": "80cd9eb7-b12b-4d3d-fb6f-fc44c6484692"
      },
      "execution_count": null,
      "outputs": [
        {
          "output_type": "stream",
          "name": "stdout",
          "text": [
            "Digite um numero: 30\n",
            "30.0 não é maior que 1000.\n"
          ]
        }
      ]
    },
    {
      "cell_type": "code",
      "source": [
        "#9. Peça um valor em reais e informe se ele é múltiplo de 50, ou seja, se o valor pode ser pago apenas com notas de R$50,00.\n",
        "valor = float(input(\"Digite um valor em reais: \"))\n",
        "if valor % 50 == 0:\n",
        "  print(f\"{valor} é múltiplo de 50, ou seja, pode ser pago apenas com notas de R$50,00 \")\n",
        "else:\n",
        "  print(f\"{valor} não é múltiplo de 50, ou seja, não pode ser pago apenas com notas de R$50,00\")\n"
      ],
      "metadata": {
        "colab": {
          "base_uri": "https://localhost:8080/"
        },
        "id": "4QO92GEUrQcH",
        "outputId": "574a2595-3ed6-4628-f2c2-dc2625ff700a"
      },
      "execution_count": null,
      "outputs": [
        {
          "output_type": "stream",
          "name": "stdout",
          "text": [
            "Digite um valor em reais: 90\n",
            "90.0 não é múltiplo de 50, ou seja, não pode ser pago apenas com notas de R$50,00\n"
          ]
        }
      ]
    },
    {
      "cell_type": "code",
      "source": [
        "#10. Solicite um número ao usuário e verifique se ele está no intervalo entre 100 e 200 (inclusive). Informe o resultado.\n",
        "numero = float(input(\"Digite um numero: \"))\n",
        "if 100 <= numero <= 200:\n",
        "  print(f\"{numero} está no intervalo entre 100 e 200.\")\n",
        "else:\n",
        "  print(f\"{numero} não está no intervalo entre 100 e 200. \")"
      ],
      "metadata": {
        "colab": {
          "base_uri": "https://localhost:8080/"
        },
        "id": "tX5b-rCRtrya",
        "outputId": "82382ae9-18b5-4e17-f999-d75d7ed89eaa"
      },
      "execution_count": null,
      "outputs": [
        {
          "output_type": "stream",
          "name": "stdout",
          "text": [
            "Digite um numero: 210\n",
            "210.0 não está no intervalo entre 100 e 200. \n"
          ]
        }
      ]
    },
    {
      "cell_type": "code",
      "source": [
        "#11. Peça a altura de uma árvore em metros e informe se ela tem menos de 5 metros de altura.\n",
        "altura = float(input(\"Digite a altura da árvore em metros:\"))\n",
        "if altura < 5:\n",
        "  print(\"A árvore é menor de 5 metros de altura\" )\n",
        "else:\n",
        "  print(F\"A árvore tem {altura} menor de 5 metros.\")"
      ],
      "metadata": {
        "colab": {
          "base_uri": "https://localhost:8080/"
        },
        "id": "2Nhu2SxWwQfa",
        "outputId": "17c7f77f-6a4f-4905-e96d-4a059ca14363"
      },
      "execution_count": null,
      "outputs": [
        {
          "output_type": "stream",
          "name": "stdout",
          "text": [
            "Digite a altura da árvore em metros:9\n",
            "A árvore tem 9.0 menor de 5 metros.\n"
          ]
        }
      ]
    },
    {
      "cell_type": "code",
      "source": [
        "#12. Solicite a temperatura de um líquido em graus Celsius e informe seu estado físico: \"congelado\" (≤0°C), \"líquido\" (0°C a 100°C) ou \"ebulição\" (>100°C).\n",
        "temperatura = float(input(\"Digite a temperatura do líquido em graus celsius: \"))\n",
        "if temperatura <= 0:\n",
        "  print(\"o liquido está congelado. \")\n",
        "elif 0 < temperatura < 100:\n",
        "  print(\"O liquido está em estado líquido. \")\n",
        "else:\n",
        "  print(\"O líquido está congelado. \")"
      ],
      "metadata": {
        "colab": {
          "base_uri": "https://localhost:8080/"
        },
        "id": "nHbc3oGnxnWy",
        "outputId": "18531991-789e-4576-f27e-8592dc0b128c"
      },
      "execution_count": null,
      "outputs": [
        {
          "output_type": "stream",
          "name": "stdout",
          "text": [
            "Digite a temperatura do líquido em graus celsius: -8\n",
            "o liquido está congelado. \n"
          ]
        }
      ]
    },
    {
      "cell_type": "code",
      "source": [
        "#13. Peça um número inteiro e verifique se ele é múltiplo de 10. Mostre uma mensagem indicando o resultado.\n",
        "numero = int(input(\"Digite um numero inteiro: \"))\n",
        "if numero % 10 == 0:\n",
        "  print(f\"{numero} é multiplo de 10. \")\n",
        "else:\n",
        "  print(f\"{numero} não é multiplo de 10. \")\n"
      ],
      "metadata": {
        "colab": {
          "base_uri": "https://localhost:8080/"
        },
        "id": "ULlfV1pF1MBG",
        "outputId": "9c541434-f274-45a2-d71c-ddd52758e3df"
      },
      "execution_count": null,
      "outputs": [
        {
          "output_type": "stream",
          "name": "stdout",
          "text": [
            "Digite um numero inteiro: 6\n",
            "6 não é multiplo de 10. \n"
          ]
        }
      ]
    },
    {
      "cell_type": "code",
      "source": [
        "#14. Solicite a nota final de dois alunos e exiba qual deles teve a maior pontuação.\n",
        "nota1 = float(input(\"Digite a nota do primeiro aluno: \"))\n",
        "nota2 = float(input(\"Digite a nota do segundo aluno: \"))\n",
        "if nota1 > nota2:\n",
        "  print(f\"O primeiro aluno teve a maior pontuaçãocom {nota1} pontos. \")\n",
        "else:\n",
        "  print(f(\"o segundo aluno teve a maior pontuação com {nota2} pontos. \"))"
      ],
      "metadata": {
        "colab": {
          "base_uri": "https://localhost:8080/"
        },
        "id": "1PQQMOEG2IFe",
        "outputId": "c7582193-09c5-444f-9c79-c5deced5b0dd"
      },
      "execution_count": null,
      "outputs": [
        {
          "output_type": "stream",
          "name": "stdout",
          "text": [
            "Digite a nota do primeiro aluno: 18\n",
            "Digite a nota do segundo aluno: 15\n",
            "O primeiro aluno teve a maior pontuaçãocom 18.0 pontos. \n"
          ]
        }
      ]
    },
    {
      "cell_type": "code",
      "source": [
        "#15. Peça o nome de uma fruta e verifique se ela contém a letra \"e\". Exiba o resultado.\n",
        "fruta = input(\"Digite o nome de uma fruta: \")\n",
        "if \"e\" in fruta:\n",
        "  print(f\"A fruta {fruta} contém a letra 'e' \")\n",
        "else:\n",
        "  print(f\"Afruta {fruta} não contém a letra 'e' \")"
      ],
      "metadata": {
        "colab": {
          "base_uri": "https://localhost:8080/"
        },
        "id": "sZ2_cMsdC6_P",
        "outputId": "6adcc737-9ab4-4d36-b0ff-90bf4aedf002"
      },
      "execution_count": 1,
      "outputs": [
        {
          "output_type": "stream",
          "name": "stdout",
          "text": [
            "Digite o nome de uma fruta: manga\n",
            "Afruta manga não contém a letra 'e' \n"
          ]
        }
      ]
    },
    {
      "cell_type": "code",
      "source": [
        "#16. Peça a velocidade de um carro em km/h e informe se ela ultrapassa o limite de 80 km/h.\n",
        "velocidade = float(input(\"Digiete a velocidade de um carro em km\\h: \"))\n",
        "if velocidade >= 80:\n",
        "  print(f\"A velocidade {velocidade} ultrapassa o limite de 80 km\\h. \")\n",
        "else:\n",
        "  print(f\"A velocidade{velocidade} não ultrapassa o limite de 80 km\\h. \")"
      ],
      "metadata": {
        "colab": {
          "base_uri": "https://localhost:8080/"
        },
        "id": "Q0-kJGJAEMPs",
        "outputId": "05836a34-4e76-46ec-cedd-d8e60a5d118d"
      },
      "execution_count": 2,
      "outputs": [
        {
          "output_type": "stream",
          "name": "stdout",
          "text": [
            "Digiete a velocidade de um carro em km\\h: 89\n",
            "A velocidade 89.0 ultrapassa o limite de 80 km\\h. \n"
          ]
        }
      ]
    },
    {
      "cell_type": "code",
      "source": [
        "#17. Solicite um número ao usuário e informe se ele é divisível por 4 ou por 5. Exiba uma mensagem adequada.\n",
        "numero = float(input(\"Digite um numero:\" ))\n",
        "if numero % 4 == 0:\n",
        "  print(f\"O numero {numero} é divisível por 4. \")\n",
        "if numero % 5 == 0:\n",
        "  print(f\"O numero {numero} é divisível por 5. \")\n",
        "else:\n",
        "  print(f\"O numero {numero} não é divisível por 5. \")\n",
        "\n"
      ],
      "metadata": {
        "colab": {
          "base_uri": "https://localhost:8080/"
        },
        "id": "KjI5xC6AFax_",
        "outputId": "5d6c1bfd-45bd-4998-b4ff-0381b5380da5"
      },
      "execution_count": 3,
      "outputs": [
        {
          "output_type": "stream",
          "name": "stdout",
          "text": [
            "Digite um numero:43\n",
            "O numero 43.0 não é divisível por 5. \n"
          ]
        }
      ]
    },
    {
      "cell_type": "code",
      "source": [
        "#18. Peça uma palavra ao usuário e verifique se ela contém a letra \"z\". Mostre uma mensagem informando o resultado.\n",
        "palavra = input(\"Digite uma palvra: \")\n",
        "if \"z\" in palavra:\n",
        "  print(f\"A palavra {palavra} contém a letra 'z'. \")\n",
        "else:\n",
        "  print(f\"A palavra {palavra}não contém a letra 'z'. \")"
      ],
      "metadata": {
        "colab": {
          "base_uri": "https://localhost:8080/"
        },
        "id": "UQWfMG5hHHWS",
        "outputId": "0532ae11-fda7-4b39-f26c-3c6245a322fe"
      },
      "execution_count": 4,
      "outputs": [
        {
          "output_type": "stream",
          "name": "stdout",
          "text": [
            "Digite uma palvra: arroz\n",
            "A palavra arroz contém a letra 'z'. \n"
          ]
        }
      ]
    },
    {
      "cell_type": "code",
      "source": [
        "#19. Solicite a quantidade de itens em um pedido e informe se ela é maior ou menor que 15 unidades.\n",
        "ítens = int(input(\"Digite a quantidade de itens no pedido: \"))\n",
        "if ítens < 15:\n",
        "  print(f\"O pedido é menor que 15. \")\n",
        "else:\n",
        "  print(f\"O pedido é maior que 15. \")"
      ],
      "metadata": {
        "colab": {
          "base_uri": "https://localhost:8080/"
        },
        "id": "zYG3ndanIEmg",
        "outputId": "ee025349-f805-4fcb-8bee-d2616f9aeef5"
      },
      "execution_count": 8,
      "outputs": [
        {
          "output_type": "stream",
          "name": "stdout",
          "text": [
            "Digite a quantidade de itens no pedido: 18\n",
            "O pedido é maior que 15. \n"
          ]
        }
      ]
    },
    {
      "cell_type": "code",
      "source": [
        "#20. Peça um número e verifique se ele termina com o dígito 7. Informe o resultado.\n",
        "numero = int(input(\"Digite um numero: \"))\n",
        "if numero % 10 == 7:\n",
        "  print(f\"O numero {numero} termina com digito '7' \")\n",
        "else:\n",
        "  print(f\"O numero {numero} não termina com digito '7'. \")"
      ],
      "metadata": {
        "colab": {
          "base_uri": "https://localhost:8080/"
        },
        "id": "nJ8ekoXuJmQ1",
        "outputId": "7ff3da6c-4e2c-4781-9a1e-180580654729"
      },
      "execution_count": 9,
      "outputs": [
        {
          "output_type": "stream",
          "name": "stdout",
          "text": [
            "Digite um numero: 17\n",
            "O numero 17 termina com digito '7' \n"
          ]
        }
      ]
    },
    {
      "cell_type": "code",
      "source": [
        "#21. Solicite o ano de fabricação de um veículo e informe se ele tem mais de 20 anos.\n",
        "ano = int(input(\"Digite o ano de fabricaçao de um veiculo: \"))\n",
        "if 2023 - ano > 20:\n",
        "  print(f\"O veiculo tem mais de 20 anos. \")\n",
        "elif 2023 == 20:\n",
        "    print(f\"O veiculo tem mais de 20 anos. \")\n",
        "else:\n",
        "    print(f\"O veiculo tem menos de 20 anos. \")"
      ],
      "metadata": {
        "colab": {
          "base_uri": "https://localhost:8080/"
        },
        "id": "_z7wCpJBKc5o",
        "outputId": "095d82be-f800-4147-9ad9-43cb1ba8b0af"
      },
      "execution_count": 10,
      "outputs": [
        {
          "output_type": "stream",
          "name": "stdout",
          "text": [
            "Digite o ano de fabricaçao de um veiculo: 2022\n",
            "O veiculo tem menos de 20 anos. \n"
          ]
        }
      ]
    },
    {
      "cell_type": "code",
      "source": [
        "#22. Peça um número de telefone e verifique se ele contém o dígito 9. Exiba o resultado.\n",
        "telefone = int(input(\"Digite o numero de telefone: \"))\n",
        "if telefone % 10 == 9:\n",
        "  print(f\"O numero {telefone} contém o digito '9'. \")\n",
        "else:\n",
        "  print(f\"O numero {telefone} não contém o digito '9'. \")"
      ],
      "metadata": {
        "colab": {
          "base_uri": "https://localhost:8080/"
        },
        "id": "7ONRDteOL1mP",
        "outputId": "c8712445-7e94-424d-fe16-1b212616a0ed"
      },
      "execution_count": 11,
      "outputs": [
        {
          "output_type": "stream",
          "name": "stdout",
          "text": [
            "Digite o numero de telefone: 99\n",
            "O numero 99 contém o digito '9'. \n"
          ]
        }
      ]
    },
    {
      "cell_type": "code",
      "source": [
        "#23. Solicite um número e informe se ele possui exatamente 2 dígitos.\n",
        "numero = int(input(\"Digite um numero: \"))\n",
        "if 19 < numero < 99:\n",
        "  print(F\"{numero} possui exatamente 2 digitos. \")\n",
        "else:\n",
        "  print(f\"{numero} não possui 2 digitos. \")"
      ],
      "metadata": {
        "colab": {
          "base_uri": "https://localhost:8080/"
        },
        "id": "7Qc7zQ6fMsZ5",
        "outputId": "f18975b9-95c3-4f21-d2de-05eca098cce5"
      },
      "execution_count": 16,
      "outputs": [
        {
          "output_type": "stream",
          "name": "stdout",
          "text": [
            "Digite um numero: 333\n",
            "333 não possui 2 digitos. \n"
          ]
        }
      ]
    },
    {
      "cell_type": "code",
      "source": [
        "#24. Peça o preço de um ingresso e aplique um desconto de 15%. Verifique se o preço com desconto ainda é superior a R$50,00 e exiba uma mensagem informando o resultado.\n",
        "preço_ingresso = float(input(\"Digite o preço do ingresso: \"))\n",
        "preço_com_desconto = preço_ingresso * 0.85\n",
        "if preço_ingresso > 50:\n",
        "  print(\"O preço do ingresso com desconto ainda é superior a R$50,00. \")\n",
        "else:\n",
        "  print(\"O preço do ingresso com desconto é menor que R$50,00.  \")"
      ],
      "metadata": {
        "colab": {
          "base_uri": "https://localhost:8080/"
        },
        "id": "qxk8XFUPPNA-",
        "outputId": "58338512-1f27-48c8-c597-894d394fdd46"
      },
      "execution_count": 17,
      "outputs": [
        {
          "output_type": "stream",
          "name": "stdout",
          "text": [
            "Digite o preço do ingresso: 23\n",
            "O preço do ingresso com desconto é menor que R$50,00.  \n"
          ]
        }
      ]
    },
    {
      "cell_type": "code",
      "source": [
        "#25. Solicite um número ao usuário e informe se ele é divisível por 8. Exiba o resultado.\n",
        "numero = int(input(\"Digite um numero: \"))\n",
        "if numero % 8 == 0:\n",
        "  print(f\"O numero {numero} é divisível por 8. \")\n",
        "else:\n",
        "  print(f\"O numero {numero} não é divisível por 8. \")"
      ],
      "metadata": {
        "colab": {
          "base_uri": "https://localhost:8080/"
        },
        "id": "xFM0sTYpRBDr",
        "outputId": "bd2dc008-9c0b-49e2-ceba-7d57df8d4e54"
      },
      "execution_count": 18,
      "outputs": [
        {
          "output_type": "stream",
          "name": "stdout",
          "text": [
            "Digite um numero: 5\n",
            "O numero 5 não é divisível por 8. \n"
          ]
        }
      ]
    },
    {
      "cell_type": "code",
      "source": [
        "#26. Peça um número e verifique se ele é divisível tanto por 5 quanto por 9. Informe o resultado.\n",
        "numero = int(input(\"Digite um numero: \"))\n",
        "if numero % 5 == 0 and numero % 9 == 0:\n",
        "  print(F\"{numero} é divisível por 5 e por 9.\")\n",
        "else:\n",
        "  print(f\"{numero} não é dicviível por 5 e 9. \")\n"
      ],
      "metadata": {
        "colab": {
          "base_uri": "https://localhost:8080/"
        },
        "id": "j2b6tep2R32i",
        "outputId": "927ea10f-5088-4b93-d9d1-d1daa76c39ee"
      },
      "execution_count": 19,
      "outputs": [
        {
          "output_type": "stream",
          "name": "stdout",
          "text": [
            "Digite um numero: 456\n",
            "456 não é dicviível por 5 e 9. \n"
          ]
        }
      ]
    },
    {
      "cell_type": "code",
      "source": [
        "#27. Solicite o peso de um objeto em kg e informe se ele pesa mais de 25 kg.\n",
        "peso = int(input(\"Digite o peso de um objeto em kg: \"))\n",
        "if peso > 25:\n",
        "  print(f\"O objeto tem mais de 25 kg. \")\n",
        "else:\n",
        "  print(f\"O objeto não tem mais de 25 kg. \")"
      ],
      "metadata": {
        "colab": {
          "base_uri": "https://localhost:8080/"
        },
        "id": "OSmrKo6gSx9Z",
        "outputId": "d39b1518-9619-40dd-9703-9c1dd44c4c59"
      },
      "execution_count": 20,
      "outputs": [
        {
          "output_type": "stream",
          "name": "stdout",
          "text": [
            "Digite o peso de um objeto em kg: 56\n",
            "O objeto tem mais de 25 kg. \n"
          ]
        }
      ]
    },
    {
      "cell_type": "code",
      "source": [
        "#28. Peça uma letra ao usuário e informe se ela é uma vogal ou uma consoante. Considere letras minúsculas e maiúsculas.\n",
        "\n",
        "letra = input(\"Digite uma letra: \")\n",
        "if letra.lower() in \"aeiou\":\n",
        "  print(f\"A letra {letra} é uma consoante. \")\n",
        "else:\n",
        "  print(f\"A letra {letra} não é uma consoante. \")"
      ],
      "metadata": {
        "colab": {
          "base_uri": "https://localhost:8080/"
        },
        "id": "oXaUuZzdTgKs",
        "outputId": "c9f6b681-fef8-456a-c0bf-6424508d3dd8"
      },
      "execution_count": 21,
      "outputs": [
        {
          "output_type": "stream",
          "name": "stdout",
          "text": [
            "Digite uma letra: t\n",
            "A letra t não é uma consoante. \n"
          ]
        }
      ]
    },
    {
      "cell_type": "code",
      "source": [
        "#29. Solicite a velocidade de um veículo e informe se ela está abaixo, dentro ou acima do limite de 60 km/h.\n",
        "velocidade = float(input(\"Digite a velocidade de um veiculo em km/h: \"))\n",
        "if velocidade < 60:\n",
        "  print(f\"A velocidade do veiculo é abaixo do limite de 60 km/h. \")\n",
        "elif velocidade == 60:\n",
        "  print(f\"A velocidade do veiculo está dentro do limite de 60 km/h. \")\n",
        "else:\n",
        "  print(f\"A velocidade do veiculo não está dentro dop limite de 60 km/h. \")\n",
        "\n"
      ],
      "metadata": {
        "colab": {
          "base_uri": "https://localhost:8080/"
        },
        "id": "hajSMHotYmYz",
        "outputId": "f2474c47-a86e-4c26-a6e2-ccd14dffcd4b"
      },
      "execution_count": 23,
      "outputs": [
        {
          "output_type": "stream",
          "name": "stdout",
          "text": [
            "Digite a velocidade de um veiculo em km/h: 120\n",
            "A velocidade do veiculo não está dentro dop limite de 60 km/h. \n"
          ]
        }
      ]
    },
    {
      "cell_type": "code",
      "source": [
        "#30. Peça um valor em reais ao usuário e verifique se ele é suficiente para comprar um produto que custa R$200,00. Exiba uma mensagem com a resposta.\n",
        "valor = float(input(\"Digite o valor de produto em reais: \"))\n",
        "if valor >= 200:\n",
        "  print(f\"O valor {valor} é suficiente para comprar um produto de R$200,00.  \")\n",
        "else:\n",
        "  print(F\"O valor {valor} não é suficiente prar comprar um produto de R$200,00. \")"
      ],
      "metadata": {
        "colab": {
          "base_uri": "https://localhost:8080/"
        },
        "id": "TDXod_KbbAb6",
        "outputId": "1ae84dc0-f9c8-4eb0-a4c5-cd75ecc55e0a"
      },
      "execution_count": 24,
      "outputs": [
        {
          "output_type": "stream",
          "name": "stdout",
          "text": [
            "Digite o valor de produto em reais: 40\n",
            "O valor 40.0 não é suficiente prar comprar um produto de R$200,00. \n"
          ]
        }
      ]
    },
    {
      "cell_type": "markdown",
      "source": [],
      "metadata": {
        "id": "nXWxaPwb2NBj"
      }
    }
  ]
}