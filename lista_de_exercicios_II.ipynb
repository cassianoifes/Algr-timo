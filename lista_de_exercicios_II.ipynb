{
  "nbformat": 4,
  "nbformat_minor": 0,
  "metadata": {
    "colab": {
      "provenance": [],
      "authorship_tag": "ABX9TyNJ3RxUGFcPgt4b7WmwU8bv",
      "include_colab_link": true
    },
    "kernelspec": {
      "name": "python3",
      "display_name": "Python 3"
    },
    "language_info": {
      "name": "python"
    }
  },
  "cells": [
    {
      "cell_type": "markdown",
      "metadata": {
        "id": "view-in-github",
        "colab_type": "text"
      },
      "source": [
        "<a href=\"https://colab.research.google.com/github/cassianoifes/Algritimo/blob/main/lista_de_exercicios_II.ipynb\" target=\"_parent\"><img src=\"https://colab.research.google.com/assets/colab-badge.svg\" alt=\"Open In Colab\"/></a>"
      ]
    },
    {
      "cell_type": "code",
      "execution_count": 9,
      "metadata": {
        "colab": {
          "base_uri": "https://localhost:8080/"
        },
        "id": "_9LiqXwof6k3",
        "outputId": "fff11a7d-bf92-4493-b270-e3749c3bb473"
      },
      "outputs": [
        {
          "output_type": "stream",
          "name": "stdout",
          "text": [
            "Digite a hora de entrada: 8\n",
            "Digite o minuto de entrada: 30\n",
            "Digite a hora de saida: 17\n",
            "Digite o minuto de saida: 30\n",
            "O funcionario trabalhado 8 horas e 0 minutos. \n",
            "O funcionario cumpriu uma jornada de pelo menos 8h diárias. \n"
          ]
        }
      ],
      "source": [
        "#01 Crie um algoritmo que receba o horário (hora e minuto) de entrada e saída de um funcionário em um dia de trabalho. Calcule o tempo total trabalhado em horas e minutos, considerando que ele teve uma pausa de 1h para almoço, e diga se ele cumpriu uma jornada de pelo menos 8h diárias.\n",
        "hora_entrada = int(input(\"Digite a hora de entrada: \"))\n",
        "minuto_entrada = int(input(\"Digite o minuto de entrada: \"))\n",
        "hora_saida = int(input(\"Digite a hora de saida: \"))\n",
        "minuto_saida = int(input(\"Digite o minuto de saida: \"))\n",
        "entrada = hora_entrada * 60 + minuto_entrada\n",
        "saida = hora_saida * 60 + minuto_saida\n",
        "tempo_trabalhado = saida - entrada - 60\n",
        "horas = tempo_trabalhado // 60\n",
        "minutos = tempo_trabalhado % 60\n",
        "print(f\"O funcionario trabalhado {horas} horas e {minutos} minutos. \")\n",
        "if horas >= 8:\n",
        "   print(\"O funcionario cumpriu uma jornada de pelo menos 8h diárias. \")\n",
        "else:\n",
        "   print(\"O funcionario não cumpriu uma jornada de pelo menos 8h diarias. \")\n"
      ]
    },
    {
      "cell_type": "code",
      "source": [],
      "metadata": {
        "id": "w8M_E3oigGzH"
      },
      "execution_count": 9,
      "outputs": []
    },
    {
      "cell_type": "code",
      "source": [
        "#02 Crie um algoritmo que receba a data de nascimento (dia, mês e ano) de uma pessoa e a data atual, e diga com precisão sua idade em anos, meses e dias. Use condicionais para lidar com casos em que o mês ou dia ainda não tenha sido atingido no ano corrente.\n",
        "from datetime import datetime\n",
        "def calcular_idade(dia_nasc, mes_nasc, ano_nasc):\n",
        "    data_atual = datetime.now()\n",
        "    data_nasc = datetime(ano_nasc, mes_nasc, dia_nasc)\n",
        "    idade_anos = data_atual.year - data_nasc.year\n",
        "    idade_meses = data_atual.month - data_nasc.month\n",
        "    idade_dias = data_atual.day - data_nasc.day\n",
        "\n",
        "    if idade_meses < 0:\n",
        "        idade_anos -= 1\n",
        "        idade_meses += 12\n",
        "\n",
        "    if idade_dias < 0:\n",
        "        idade_meses -= 1\n",
        "        if idade_meses < 0:\n",
        "            idade_anos -= 1\n",
        "            idade_meses +- 12\n",
        "        ultimo_mes = data_atual.replace(year=data_atual.year, month=data_atual.month - 1 if data_atual.month > 1 else 12)\n",
        "        idade_dias += (ultimo_mes.replace(day=28) - ultimo_mes).days\n",
        "\n",
        "        return idade_anos, idade_meses, idade_dias\n",
        "\n",
        "        def entrada_data():\n",
        "          dia = int(input(\"Digite o dia de nascimento:\"))\n",
        "          mes = int(input(\"Digite o mes de nascimento: \"))\n",
        "          ano = int(input(\"Digite o ano de nascimento:\"))\n",
        "\n",
        "          idade_anos, idade_mese, idade_dias = calcular_idade(dia, mes, ano)\n",
        "          print(f\"Sua idade é {idade_anos} anos, {idade_mese} meses e {idade_dias} dias. \")\n",
        "          entrada_data()\n",
        "\n",
        "\n",
        "\n",
        "\n",
        ""
      ],
      "metadata": {
        "id": "klUA5Rj2pqAC"
      },
      "execution_count": 19,
      "outputs": []
    },
    {
      "cell_type": "code",
      "source": [
        "#03 Elabore um algoritmo que simule um monitor de qualidade do ar. O usuário informará 3 valores de índice de poluentes de diferentes horários de um mesmo dia. O programa deve calcular a média e classificar como \"bom\", \"moderado\", \"ruim\", \"muito ruim\" ou \"péssimo\", com base em faixas fornecidas pelo código.\n",
        "def classificar_qualidade(media):\n",
        "  if media <= 50:\n",
        "      return \"Bom\"\n",
        "  elif media <= 100:\n",
        "      return \"Moderado\"\n",
        "  elif media <= 150:\n",
        "      return \"Ruim\"\n",
        "  elif media <= 200:\n",
        "      return \"Muito ruim\"\n",
        "  else:\n",
        "      return \"Pessimo\"\n",
        "print(\"Informe os índices de poluentes em três horários do dia:\")\n",
        "indice1 = float(input(\"Indice 1: \"))\n",
        "indice2 = float(input(\"Indice 2: \"))\n",
        "indice3 = float(input(\"Indice 3: \"))\n",
        "media = (indice1 + indice2 + indice3) / 3\n",
        "classificacao = classificar_qualidade(media)\n",
        "print(f\"\\Media dos indices: {media:.2f}\")\n",
        "print(\"classificação da qualidadedo ar: {classificacao}\")\n",
        "\n",
        "\n",
        "\n",
        "\n",
        "\n",
        "\n",
        "\n",
        "\n",
        "\n",
        "\n",
        "\n"
      ],
      "metadata": {
        "colab": {
          "base_uri": "https://localhost:8080/"
        },
        "id": "sxNsx-FEwAxn",
        "outputId": "ce5a096f-0ece-46ac-e89f-c4d4793ff15d"
      },
      "execution_count": 22,
      "outputs": [
        {
          "output_type": "stream",
          "name": "stdout",
          "text": [
            "Informe os índices de poluentes em três horários do dia:\n",
            "Indice 1: 5\n",
            "Indice 2: 7\n",
            "Indice 3: 1\n",
            "\\Media dos indices: 4.33\n",
            "classificação da qualidadedo ar: {classificacao}\n"
          ]
        }
      ]
    },
    {
      "cell_type": "code",
      "source": [
        "#04 Desenvolva um algoritmo que simule a geração de um extrato de abastecimento de combustível. O usuário deve informar o valor em reais que abasteceu, o preço do litro e a quilometragem inicial e final da viagem. Calcule quantos litros foram colocados e a média de km/l, informando se o carro teve desempenho bom (acima de 12 km/l), médio (8-12 km/l) ou ruim (abaixo de 8 km/l).\n",
        "valor = float(input(\"informe o valor em reais que abastteceu:\"))\n",
        "preço_litro = float(input(\"informe o preço do litro:\"))\n",
        "km_inicial = float(input(\"informe a quilometragem inicial:\"))\n",
        "km_final = float(input(\"informe a quilometragem final:\"))\n",
        "litros = valor / preço_litro\n",
        "distancia =km_final - km_inicial\n",
        "media = distancia / litros\n",
        "if media > 12:\n",
        "  print(\"desempenho bom\")\n",
        "elif media >= 8:\n",
        "  print(\"desempenho médio\")\n",
        "else:\n",
        "  print(\"desempenho ruim\")\n",
        "\n",
        "\n",
        "\n"
      ],
      "metadata": {
        "colab": {
          "base_uri": "https://localhost:8080/"
        },
        "id": "aNTyjXYD0Dv4",
        "outputId": "98a055f5-f4ef-453b-bace-a9f6792027aa"
      },
      "execution_count": 23,
      "outputs": [
        {
          "output_type": "stream",
          "name": "stdout",
          "text": [
            "informe o valor em reais que abastteceu:20\n",
            "informe o preço do litro:6\n",
            "informe a quilometragem inicial:5\n",
            "informe a quilometragem final:9\n",
            "desempenho ruim\n"
          ]
        }
      ]
    },
    {
      "cell_type": "code",
      "source": [
        "#05 Crie um algoritmo que pergunte o nome e o tempo total (em minutos) gasto por uma pessoa em atividades físicas durante 7 dias. Ao final, mostre a média diária, a soma total e diga se ela atingiu o mínimo recomendado de 150 minutos semanais.\n",
        "nome = input(\"informe o nome\")\n",
        "tempo_total = 0\n",
        "for i in range(7):\n",
        "  tempo = int(input(f\"informe o temppo gasto na atividade do dia {i+1}:\"))\n",
        "  tempo_total += tempo\n",
        "  media_diaria = tempo_total / 7\n",
        "  print(f\" a{nome} teve a media diaria {media} minutos, com a soma total de {tempo_total} minutos semanais.\")\n",
        "  if tempo_total >= 150:\n",
        "   print(f\"a{nome} atingiu o minimo recomendado de 150 minutos semanais.\")\n",
        "  else:\n",
        "    print(\"a{nome} não atingiu o minimo recomendado de 150 minutos semanais. \")\n",
        "\n",
        "\n"
      ],
      "metadata": {
        "colab": {
          "base_uri": "https://localhost:8080/"
        },
        "id": "94vu1IHo2j9R",
        "outputId": "f0885c0d-076d-4715-9d57-0eded0b4ba7b"
      },
      "execution_count": 25,
      "outputs": [
        {
          "output_type": "stream",
          "name": "stdout",
          "text": [
            "informe o nomecassiano\n",
            "informe o temppo gasto na atividade do dia 1:1\n",
            " acassiano teve a media diaria 1.2 minutos, com a soma total de 1 minutos semanais.\n",
            "a{nome} não atingiu o minimo recomendado de 150 minutos semanais. \n",
            "informe o temppo gasto na atividade do dia 2:2\n",
            " acassiano teve a media diaria 1.2 minutos, com a soma total de 3 minutos semanais.\n",
            "a{nome} não atingiu o minimo recomendado de 150 minutos semanais. \n",
            "informe o temppo gasto na atividade do dia 3:4\n",
            " acassiano teve a media diaria 1.2 minutos, com a soma total de 7 minutos semanais.\n",
            "a{nome} não atingiu o minimo recomendado de 150 minutos semanais. \n",
            "informe o temppo gasto na atividade do dia 4:2\n",
            " acassiano teve a media diaria 1.2 minutos, com a soma total de 9 minutos semanais.\n",
            "a{nome} não atingiu o minimo recomendado de 150 minutos semanais. \n",
            "informe o temppo gasto na atividade do dia 5:4\n",
            " acassiano teve a media diaria 1.2 minutos, com a soma total de 13 minutos semanais.\n",
            "a{nome} não atingiu o minimo recomendado de 150 minutos semanais. \n",
            "informe o temppo gasto na atividade do dia 6:1\n",
            " acassiano teve a media diaria 1.2 minutos, com a soma total de 14 minutos semanais.\n",
            "a{nome} não atingiu o minimo recomendado de 150 minutos semanais. \n",
            "informe o temppo gasto na atividade do dia 7:3\n",
            " acassiano teve a media diaria 1.2 minutos, com a soma total de 17 minutos semanais.\n",
            "a{nome} não atingiu o minimo recomendado de 150 minutos semanais. \n"
          ]
        }
      ]
    },
    {
      "cell_type": "code",
      "source": [
        "#06 Desenvolva um algoritmo que simule o acompanhamento de consumo de água em uma residência. O usuário informará o valor do hidrômetro no início e no fim do mês. O sistema calculará o total consumido e o valor a pagar, seguindo uma tabela de faixas de consumo (ex: até 10 m³, tarifa fixa; de 11 a 20, valor extra por m³; acima de 20, tarifa mais alta).\n",
        "hidrômetro_inicial = float(input(\"informe o vaçor do hidr^metro no inicio do mês:\"))\n",
        "hidrômetro_final = float(input(\"informe o valor do hidrômetro no final do mês:\"))\n",
        "consumo = hidrômetro_final - hidrômetro_inicial\n",
        "if consumo <= 10:\n",
        "  valor = 100 + consumo * 1\n",
        "  print(f\"consumo: {consumo:.1f} m³\")\n",
        "  print(f\"valor: R$ {valor:.2f}\")\n",
        "else:\n",
        "  valor = 100 + 10 * 1.5 + (consumo - 20) * 2\n",
        "  print(f\"consumo: {consumo:.1f} m³\")\n",
        "  print (f\"valor: R$ {valor:.2f}\")\n"
      ],
      "metadata": {
        "colab": {
          "base_uri": "https://localhost:8080/"
        },
        "id": "yUxQBaJB62KP",
        "outputId": "593fdad1-69e3-4018-a2c3-a91b347ef901"
      },
      "execution_count": 26,
      "outputs": [
        {
          "output_type": "stream",
          "name": "stdout",
          "text": [
            "informe o vaçor do hidr^metro no inicio do mês:10\n",
            "informe o valor do hidrômetro no final do mês:50\n",
            "consumo: 40.0 m³\n",
            "valor: R$ 155.00\n"
          ]
        }
      ]
    },
    {
      "cell_type": "code",
      "source": [
        "#07 Elabore um algoritmo que simule a pontualidade de voos. Receba o horário previsto e o horário real de chegada (hora e minuto). Informe o tempo de atraso ou adiantamento e classifique o voo como “pontual” (diferença ≤ 5 min), “ligeiramente atrasado/adiantado” (até 30 min) ou “muito atrasado/adiantado” (> 30 min).\n",
        "def para_minutos(hora, minuto):\n",
        "    return hora * 60 + minuto\n",
        "print(\"Informe o horário previsto de chegada: \")\n",
        "hora_prevista = int(input(\"Hora (0-23): \"))\n",
        "minuto_previsto = int(input(\"Minuto (0-59): \"))\n",
        "print(\"\\Informe o horário real de chegada:\")\n",
        "Hora_real = int(input(\"Hora (0-23): \"))\n",
        "minuto_real = int(input(\"Minuto (0-59): \"))\n",
        "minutos_previstos = para_minutos(hora_prevista, minuto_previsto)\n",
        "minutos_reais = para_minutos(Hora_real, minuto_real)\n",
        "diferença = minutos_reais - minutos_previstos\n",
        "if abs(diferença) <= 5:\n",
        "    status = \"Pontual\"\n",
        "elif abs(diferença) <= 30:\n",
        "    status = \"Ligeiramente atrasado\" if diferença > 0 else \"Ligeiramente adiantado\"\n",
        "else:\n",
        "    status = \"Muito atrasado\" if diferença > 0 else \"Muito atrasado\"\n",
        "Horas = abs(diferença) // 60\n",
        "Minutos = abs(diferença) % 60\n",
        "print(f\"\\Diferença de chegada: {Horas}h {Minutos}min\")\n",
        "print(f\"status do voo: {status}\")\n",
        "\n",
        "\n",
        "\n",
        "\n"
      ],
      "metadata": {
        "colab": {
          "base_uri": "https://localhost:8080/"
        },
        "id": "5--5JE8dCkSB",
        "outputId": "f8810ac5-64d0-4ca3-a06b-8e341f5c6918"
      },
      "execution_count": 36,
      "outputs": [
        {
          "output_type": "stream",
          "name": "stdout",
          "text": [
            "Informe o horário previsto de chegada: \n",
            "Hora (0-23): 8\n",
            "Minuto (0-59): 54\n",
            "\\Informe o horário real de chegada:\n",
            "Hora (0-23): 12\n",
            "Minuto (0-59): 57\n",
            "\\Diferença de chegada: 4h 3min\n",
            "status do voo: Muito atrasado\n"
          ]
        }
      ]
    },
    {
      "cell_type": "code",
      "source": [
        "#08 Crie um algoritmo que simule o cálculo de tempo total de tela (TV, celular, computador). Para cada dispositivo, o usuário informa quanto tempo usou por dia (em horas e minutos) por 3 dias. O sistema deve apresentar o tempo total em horas e minutos, destacando o aparelho com maior uso e emitindo um alerta caso o total passe de 10 horas diárias.\n",
        "def calcular_tempo_total():\n",
        "    aparelhos = [\"TV\", \"Celular\", \"Computador\"]\n",
        "    tempos = {}\n",
        "\n",
        "    for aparelho in aparelhos:\n",
        "        total_minutos = 0\n",
        "        for dia in range(1, 4):\n",
        "            horas = int(input(f\"Quantas horas você usou a {aparelho} no dia {dia}? \"))\n",
        "            minutos = int(input(f\"Quantos minutos você usou a {aparelho} no dia {dia}? \"))\n",
        "            total_minutos += horas * 60 + minutos\n",
        "        tempos[aparelho] = total_minutos\n",
        "\n",
        "   total_geral = sum(tempos.geral())\n",
        "   total_horas = total_geral // 60\n",
        "   total_minutos = total_geral % 60\n",
        "\n",
        "   aparelho_maior_uso = max(tempos, key=tempos.get)\n",
        "   maior_uso_horas = tempos[aparelho_maior_uso] // 60\n",
        "   maior_uso_minutos = tempos[aparelho_maior_uso] % 60\n",
        "\n",
        "   print(f\"\\tempo total de tela: {total_horas} horas e {total_minutos} minutos.\")\n",
        "   print(f\"O aparelho com maior uso foi a {aparelho_maior_uso}, com {maior_uso_horas} horas e {maior_uso_minutos} minutos.\")\n",
        "\n",
        "   if total_geral > 600:\n",
        "      print(\"Alerta: Você ultrapassou 10 horas diárias de tempo de tela!\")\n",
        "\n",
        "calcular_tempo_total()\n",
        "\n",
        "\n"
      ],
      "metadata": {
        "colab": {
          "base_uri": "https://localhost:8080/",
          "height": 111
        },
        "id": "rTeK5LUZKg2z",
        "outputId": "eef6d95e-3ec0-4894-e684-cc8b8070351a"
      },
      "execution_count": 78,
      "outputs": [
        {
          "output_type": "error",
          "ename": "IndentationError",
          "evalue": "unindent does not match any outer indentation level (<tokenize>, line 14)",
          "traceback": [
            "\u001b[0;36m  File \u001b[0;32m\"<tokenize>\"\u001b[0;36m, line \u001b[0;32m14\u001b[0m\n\u001b[0;31m    total_geral = sum(tempos.geral())\u001b[0m\n\u001b[0m    ^\u001b[0m\n\u001b[0;31mIndentationError\u001b[0m\u001b[0;31m:\u001b[0m unindent does not match any outer indentation level\n"
          ]
        }
      ]
    },
    {
      "cell_type": "code",
      "source": [
        "#09 Elabore um algoritmo que simule o rendimento de um plantio de hortaliças. Receba a área (em m²), o tipo da planta (cenoura, alface ou couve) e o rendimento médio por m². Calcule a produção esperada e diga se será suficiente para abastecer um mercado local (mínimo de 100 kg).\n",
        "def calcular_idade():\n",
        "    area = float(input(\"Digite a área do plantio (em metros quadrados): \"))\n",
        "    planta = input(\"Digite o tipo da planta (cenoura, alface ou couve): \").lower()\n",
        "    rendimento_por_m² = float(input(\"Digite o rendimento médio por metro quadrado (em kg): \"))\n",
        "\n",
        "    if planta not in [\"cenoura\", \"alface\", \"couve\"]:\n",
        "        print(\"planta inválida. Digite 'cenoura', 'alface' ou 'couve'. \")\n",
        "        return\n",
        "\n",
        "     produção_total = área * rendimento_por_m²\n",
        "\n",
        "     print(f\"\\nA produção esperada é: {produção_total:.2f} kg\")\n",
        "\n",
        "     if produção_total >= 100:\n",
        "         print(\"A produção é suficiente para abastecer o mercado local.\")\n",
        "     else:\n",
        "         print(\"A produção não é suficiente para abastecer o mercado local.\")\n",
        "calcular _rendimento()\n",
        "\n",
        "\n",
        "\n",
        "\n",
        "\n",
        "\n"
      ],
      "metadata": {
        "colab": {
          "base_uri": "https://localhost:8080/",
          "height": 111
        },
        "id": "j83jA_EGTBkG",
        "outputId": "a73450e8-220e-40df-fd42-bd0b0ed9a343"
      },
      "execution_count": 76,
      "outputs": [
        {
          "output_type": "error",
          "ename": "IndentationError",
          "evalue": "unindent does not match any outer indentation level (<tokenize>, line 11)",
          "traceback": [
            "\u001b[0;36m  File \u001b[0;32m\"<tokenize>\"\u001b[0;36m, line \u001b[0;32m11\u001b[0m\n\u001b[0;31m    produção_total = área * rendimento_por_m²\u001b[0m\n\u001b[0m    ^\u001b[0m\n\u001b[0;31mIndentationError\u001b[0m\u001b[0;31m:\u001b[0m unindent does not match any outer indentation level\n"
          ]
        }
      ]
    },
    {
      "cell_type": "code",
      "source": [
        "#10 Crie um algoritmo que simule um plano de leitura. O usuário informa a quantidade de páginas de um livro, o tempo diário disponível para leitura (em minutos) e a velocidade média de leitura (páginas por minuto). O programa deve estimar quantos dias ele levará para terminar e sugerir um cronograma diário.\n",
        "import math\n",
        "\n",
        "print(\"=== Plano de leitura personalizado ===\")\n",
        "páginas_totais = int(input(\"Quantas páginas tem o livro? \"))\n",
        "tempo_diario = int(input(\"Quantos minutos você pode ler por dia? \"))\n",
        "velocidade = float(input(\"Qual sua velocidade média de leitura (páginas por minuto)? \"))\n",
        "\n",
        "páginas_por_dia = tempo_diario * velocidade\n",
        "dias_necessarios = math.ceil(páginas_totais / páginas_por_dia)\n",
        "print(F\"\\Estimativa de leitura:\")\n",
        "print(f\"Você poderá ler aoroximadamente {páginas_por_dia:.1f} páginas por dia.\")\n",
        "print(f\"Você terminará o livro em cerca de {dias_necessários} dia(s).\")\n",
        "print(\"\\cronograma sugerido:\")\n",
        "páginas_lidas = 0\n",
        "for dia inrange(1, dia_necessários + 1):\n",
        "restante = páginas_totais - páginas_lidas\n",
        "leitura_dia = min(restante, math.ceil(páginas_por_dia))\n",
        "páginas_lidas += leitura_dia\n",
        "print(f\"Dia {dia}: leia {leitura_dia} página(s)\")\n",
        "print(\"\\Boa leirtura!\")\n",
        "\n",
        "\n",
        "\n"
      ],
      "metadata": {
        "colab": {
          "base_uri": "https://localhost:8080/",
          "height": 111
        },
        "id": "htZeNdSQZGHm",
        "outputId": "d0a83944-6936-4479-9ca9-b1ed0e092c58"
      },
      "execution_count": 79,
      "outputs": [
        {
          "output_type": "error",
          "ename": "SyntaxError",
          "evalue": "invalid syntax (<ipython-input-79-aa70d7f853e6>, line 16)",
          "traceback": [
            "\u001b[0;36m  File \u001b[0;32m\"<ipython-input-79-aa70d7f853e6>\"\u001b[0;36m, line \u001b[0;32m16\u001b[0m\n\u001b[0;31m    for dia inrange(1, dia_necessários + 1):\u001b[0m\n\u001b[0m            ^\u001b[0m\n\u001b[0;31mSyntaxError\u001b[0m\u001b[0;31m:\u001b[0m invalid syntax\n"
          ]
        }
      ]
    },
    {
      "cell_type": "code",
      "source": [
        "#11 Desenvolva um algoritmo que simule o tempo de espera em uma fila de atendimento. O usuário informa o número de pessoas na frente e o tempo médio de atendimento por pessoa. O programa deve exibir o tempo total estimado de espera em horas e minutos e indicar se é melhor voltar depois.\n",
        "def para_horas_minutos(minutos):\n",
        "    horas = minutos // 60\n",
        "    mins = minutos % 60\n",
        "    return horas, mins\n",
        "print(\"=== Simulador de Fila de Atendimento ===\")\n",
        "pessoas_na_frente = int(input(\"Quantas pessoas estão na sua frent? \"))\n",
        "tempo_medio = int(input(\"Qual o tempo médio de atendimento por pessoa (em minutos)?\"))\n",
        "tempo_total_min = pessoa_na_frente * tempo_medio\n",
        "horas, minutos = para_horas_minutos(tempo_total_min)\n",
        "print(f\"\\Tempo total estimado de espera: {horas}h {minutos}min\")\n",
        "if tempo_total_min > 60:\n",
        "    print(\"Sugerimos que você volte mais tarde, a espera está longa.\")\n",
        "else:\n",
        "    print(\"A espera está rasoável, vale a pena aguardar.\")\n"
      ],
      "metadata": {
        "colab": {
          "base_uri": "https://localhost:8080/",
          "height": 277
        },
        "id": "4-JVN2-2hdOt",
        "outputId": "c0204790-c040-4f47-8be9-d93e329dee47"
      },
      "execution_count": 86,
      "outputs": [
        {
          "name": "stdout",
          "output_type": "stream",
          "text": [
            "=== Simulador de Fila de Atendimento ===\n",
            "Quantas pessoas estão na sua frent? 3\n",
            "Qual o tempo médio de atendimento por pessoa (em minutos)?2\n"
          ]
        },
        {
          "output_type": "error",
          "ename": "NameError",
          "evalue": "name 'pessoa_na_frente' is not defined",
          "traceback": [
            "\u001b[0;31m---------------------------------------------------------------------------\u001b[0m",
            "\u001b[0;31mNameError\u001b[0m                                 Traceback (most recent call last)",
            "\u001b[0;32m<ipython-input-86-032f3d5d29ad>\u001b[0m in \u001b[0;36m<cell line: 0>\u001b[0;34m()\u001b[0m\n\u001b[1;32m      7\u001b[0m \u001b[0mpessoas_na_frente\u001b[0m \u001b[0;34m=\u001b[0m \u001b[0mint\u001b[0m\u001b[0;34m(\u001b[0m\u001b[0minput\u001b[0m\u001b[0;34m(\u001b[0m\u001b[0;34m\"Quantas pessoas estão na sua frent? \"\u001b[0m\u001b[0;34m)\u001b[0m\u001b[0;34m)\u001b[0m\u001b[0;34m\u001b[0m\u001b[0;34m\u001b[0m\u001b[0m\n\u001b[1;32m      8\u001b[0m \u001b[0mtempo_medio\u001b[0m \u001b[0;34m=\u001b[0m \u001b[0mint\u001b[0m\u001b[0;34m(\u001b[0m\u001b[0minput\u001b[0m\u001b[0;34m(\u001b[0m\u001b[0;34m\"Qual o tempo médio de atendimento por pessoa (em minutos)?\"\u001b[0m\u001b[0;34m)\u001b[0m\u001b[0;34m)\u001b[0m\u001b[0;34m\u001b[0m\u001b[0;34m\u001b[0m\u001b[0m\n\u001b[0;32m----> 9\u001b[0;31m \u001b[0mtempo_total_min\u001b[0m \u001b[0;34m=\u001b[0m \u001b[0mpessoa_na_frente\u001b[0m \u001b[0;34m*\u001b[0m \u001b[0mtempo_medio\u001b[0m\u001b[0;34m\u001b[0m\u001b[0;34m\u001b[0m\u001b[0m\n\u001b[0m\u001b[1;32m     10\u001b[0m \u001b[0mhoras\u001b[0m\u001b[0;34m,\u001b[0m \u001b[0mminutos\u001b[0m \u001b[0;34m=\u001b[0m \u001b[0mpara_horas_minutos\u001b[0m\u001b[0;34m(\u001b[0m\u001b[0mtempo_total_min\u001b[0m\u001b[0;34m)\u001b[0m\u001b[0;34m\u001b[0m\u001b[0;34m\u001b[0m\u001b[0m\n\u001b[1;32m     11\u001b[0m \u001b[0mprint\u001b[0m\u001b[0;34m(\u001b[0m\u001b[0;34mf\"\\Tempo total estimado de espera: {horas}h {minutos}min\"\u001b[0m\u001b[0;34m)\u001b[0m\u001b[0;34m\u001b[0m\u001b[0;34m\u001b[0m\u001b[0m\n",
            "\u001b[0;31mNameError\u001b[0m: name 'pessoa_na_frente' is not defined"
          ]
        }
      ]
    },
    {
      "cell_type": "code",
      "source": [
        "#12 Elabore um algoritmo que ajude no controle de validade de alimentos. O usuário informa a data de fabricação e a validade (em dias). O programa calcula quantos dias faltam para vencer e emite alertas em cores (texto) se estiver perto de vencer (menos de 5 dias) ou já vencido.\n",
        "from datetime import datetime, timedelta\n",
        "def colorir(texto, cor):\n",
        "    cores = {\"vermelho\": \"\\033[91m\", \"amarelo\": \"\\033[93m\", \"verde\": \"\\033[92m\", \"fim\": \"\\033[0m\"}\n",
        "    return f\"{cores[cor]}{texto}{cores['fim']}\"\n",
        "print(\"=== Controle de validade de Alimento ===\")\n",
        "fabricação_str = inpt(\"Informe a data de fabricação (formato DD/MM/AAAA): \")\n",
        "validade_dias = int(input(\"Informe a validade (em dias): \"))\n",
        "fabricação = datetime.strptime(fabricação_str, \"%d/%m?%Y\")\n",
        "data_validade = fabricação + timedelta(days=validade_dias)\n",
        "hoje = datetime.today()\n",
        "dias_restantes = (data_validade - hoje).days\n",
        "print(f\"\\data de fabricação: {fabricação.strftime('%d/%m/%Y')}\")\n",
        "print(f\"data de validade: {data_validade.strftime('%d/%m%/%Y')}\")\n",
        "print(f\"Dias restantes para vencer: {max(0, dias_restantes)}\")\n",
        "\n"
      ],
      "metadata": {
        "colab": {
          "base_uri": "https://localhost:8080/",
          "height": 240
        },
        "id": "-ZAoYTDGl0KW",
        "outputId": "2d472880-13b1-4638-fd0d-07c4352a5bf7"
      },
      "execution_count": 89,
      "outputs": [
        {
          "output_type": "stream",
          "name": "stdout",
          "text": [
            "=== Controle de validade de Alimento ===\n"
          ]
        },
        {
          "output_type": "error",
          "ename": "NameError",
          "evalue": "name 'inpt' is not defined",
          "traceback": [
            "\u001b[0;31m---------------------------------------------------------------------------\u001b[0m",
            "\u001b[0;31mNameError\u001b[0m                                 Traceback (most recent call last)",
            "\u001b[0;32m<ipython-input-89-a49ec692e96b>\u001b[0m in \u001b[0;36m<cell line: 0>\u001b[0;34m()\u001b[0m\n\u001b[1;32m      5\u001b[0m     \u001b[0;32mreturn\u001b[0m \u001b[0;34mf\"{cores[cor]}{texto}{cores['fim']}\"\u001b[0m\u001b[0;34m\u001b[0m\u001b[0;34m\u001b[0m\u001b[0m\n\u001b[1;32m      6\u001b[0m \u001b[0mprint\u001b[0m\u001b[0;34m(\u001b[0m\u001b[0;34m\"=== Controle de validade de Alimento ===\"\u001b[0m\u001b[0;34m)\u001b[0m\u001b[0;34m\u001b[0m\u001b[0;34m\u001b[0m\u001b[0m\n\u001b[0;32m----> 7\u001b[0;31m \u001b[0mfabricação_str\u001b[0m \u001b[0;34m=\u001b[0m \u001b[0minpt\u001b[0m\u001b[0;34m(\u001b[0m\u001b[0;34m\"Informe a data de fabricação (formato DD/MM/AAAA): \"\u001b[0m\u001b[0;34m)\u001b[0m\u001b[0;34m\u001b[0m\u001b[0;34m\u001b[0m\u001b[0m\n\u001b[0m\u001b[1;32m      8\u001b[0m \u001b[0mvalidade_dias\u001b[0m \u001b[0;34m=\u001b[0m \u001b[0mint\u001b[0m\u001b[0;34m(\u001b[0m\u001b[0minput\u001b[0m\u001b[0;34m(\u001b[0m\u001b[0;34m\"Informe a validade (em dias): \"\u001b[0m\u001b[0;34m)\u001b[0m\u001b[0;34m)\u001b[0m\u001b[0;34m\u001b[0m\u001b[0;34m\u001b[0m\u001b[0m\n\u001b[1;32m      9\u001b[0m \u001b[0mfabricação\u001b[0m \u001b[0;34m=\u001b[0m \u001b[0mdatetime\u001b[0m\u001b[0;34m.\u001b[0m\u001b[0mstrptime\u001b[0m\u001b[0;34m(\u001b[0m\u001b[0mfabricação_str\u001b[0m\u001b[0;34m,\u001b[0m \u001b[0;34m\"%d/%m?%Y\"\u001b[0m\u001b[0;34m)\u001b[0m\u001b[0;34m\u001b[0m\u001b[0;34m\u001b[0m\u001b[0m\n",
            "\u001b[0;31mNameError\u001b[0m: name 'inpt' is not defined"
          ]
        }
      ]
    },
    {
      "cell_type": "code",
      "source": [
        "#13 Crie um algoritmo que receba a data atual e a data de um evento (em qualquer ano) e informe quantos dias faltam. O programa deve considerar se o evento está no mesmo ano, em um ano futuro ou se já passou.\n",
        "from datetime import datetime\n",
        "print(\"=== Contador de Dias para um Evento ===\")\n",
        "data_atual_str = input(\"Informe a data atual (DD/MM/AAAA): \")\n",
        "data_evento = datetime.strptime(data_evento-str, \"%d/%m/%Y\")\n",
        "diferença = (data_evento - data_atual).days\n",
        "print(\"\\ Resultado:\")\n",
        "if diferença > 0:\n",
        "  print(\" O evento é HOJE!\")\n",
        "else:\n",
        "  print(F\" O evento já passou há {abs(diferença)} dia(s).\")\n",
        "\n",
        "\n"
      ],
      "metadata": {
        "colab": {
          "base_uri": "https://localhost:8080/",
          "height": 258
        },
        "id": "-RlzHnRatHNA",
        "outputId": "a2d63c37-4504-4f17-821a-69ae5e517c83"
      },
      "execution_count": 94,
      "outputs": [
        {
          "name": "stdout",
          "output_type": "stream",
          "text": [
            "=== Contador de Dias para um Evento ===\n",
            "Informe a data atual (DD/MM/AAAA): 10/05/2025\n"
          ]
        },
        {
          "output_type": "error",
          "ename": "NameError",
          "evalue": "name 'data_evento' is not defined",
          "traceback": [
            "\u001b[0;31m---------------------------------------------------------------------------\u001b[0m",
            "\u001b[0;31mNameError\u001b[0m                                 Traceback (most recent call last)",
            "\u001b[0;32m<ipython-input-94-b039394ba1d5>\u001b[0m in \u001b[0;36m<cell line: 0>\u001b[0;34m()\u001b[0m\n\u001b[1;32m      3\u001b[0m \u001b[0mprint\u001b[0m\u001b[0;34m(\u001b[0m\u001b[0;34m\"=== Contador de Dias para um Evento ===\"\u001b[0m\u001b[0;34m)\u001b[0m\u001b[0;34m\u001b[0m\u001b[0;34m\u001b[0m\u001b[0m\n\u001b[1;32m      4\u001b[0m \u001b[0mdata_atual_str\u001b[0m \u001b[0;34m=\u001b[0m \u001b[0minput\u001b[0m\u001b[0;34m(\u001b[0m\u001b[0;34m\"Informe a data atual (DD/MM/AAAA): \"\u001b[0m\u001b[0;34m)\u001b[0m\u001b[0;34m\u001b[0m\u001b[0;34m\u001b[0m\u001b[0m\n\u001b[0;32m----> 5\u001b[0;31m \u001b[0mdata_evento\u001b[0m \u001b[0;34m=\u001b[0m \u001b[0mdatetime\u001b[0m\u001b[0;34m.\u001b[0m\u001b[0mstrptime\u001b[0m\u001b[0;34m(\u001b[0m\u001b[0mdata_evento\u001b[0m\u001b[0;34m-\u001b[0m\u001b[0mstr\u001b[0m\u001b[0;34m,\u001b[0m \u001b[0;34m\"%d/%m/%Y\"\u001b[0m\u001b[0;34m)\u001b[0m\u001b[0;34m\u001b[0m\u001b[0;34m\u001b[0m\u001b[0m\n\u001b[0m\u001b[1;32m      6\u001b[0m \u001b[0mdiferença\u001b[0m \u001b[0;34m=\u001b[0m \u001b[0;34m(\u001b[0m\u001b[0mdata_evento\u001b[0m \u001b[0;34m-\u001b[0m \u001b[0mdata_atual\u001b[0m\u001b[0;34m)\u001b[0m\u001b[0;34m.\u001b[0m\u001b[0mdays\u001b[0m\u001b[0;34m\u001b[0m\u001b[0;34m\u001b[0m\u001b[0m\n\u001b[1;32m      7\u001b[0m \u001b[0mprint\u001b[0m\u001b[0;34m(\u001b[0m\u001b[0;34m\"\\ Resultado:\"\u001b[0m\u001b[0;34m)\u001b[0m\u001b[0;34m\u001b[0m\u001b[0;34m\u001b[0m\u001b[0m\n",
            "\u001b[0;31mNameError\u001b[0m: name 'data_evento' is not defined"
          ]
        }
      ]
    },
    {
      "cell_type": "code",
      "source": [
        "#14 Desenvolva um algoritmo que ajude a controlar o tempo de tela de crianças. O usuário deve informar a idade da criança e o tempo de uso de dispositivos eletrônicos. Com base na recomendação da OMS para cada faixa etária, diga se o uso está adequado ou exagerado.\n",
        "def verificar_tempo_de_tela(idade, tempo_uso):\n",
        "        if idade < 2:\n",
        "        if tempo_uso > 0:\n",
        "            return \"Uso inadequado: A OMS recomenda o uso de telas para crianças menores de 2 anos.\"\n",
        "        else:\n",
        "            return \"Uso adequado: A criança não deve usar telas.\"\n",
        "     elif 2 <= 5:\n",
        "        if tempo_uso <= 60:\n",
        "            return \"Uso adequado: Está dentro da recomendação da OMS (máximo 1 hora por dia).\"\n",
        "        else:\n",
        "            return \"Uso exagerado: A OMS recomenda no máximo 1 hora por dia.\"\n",
        "      elif 6 <= 12:\n",
        "        if tempo_uso = 120:\n",
        "            return \"Uso adequado: Está dentro da recomendação da OMS (máximo 2 horas por dia).\"\n",
        "        else:\n",
        "            return \"Uso exagerado: A OMS recomenda no máximo 2 horas por dia.\"\n",
        "        else:\n",
        "          if tempo_uso <= 180;\n",
        "             return \"Uso adequado; Está dentro da recomendação da OMS (máximo 3 horas por dia).\"\n",
        "        else:\n",
        "             return \"Uso exagerado: A OMS recomenda no máximo 3 horas por dia.\"\n",
        "print(\"=== Controle de tempo de Tela para crianças ===\")\n",
        "idade = int(input(\"Informe a idade da criança: \"))\n",
        "tempo_uso = int(input(\"Informe o tempo de uso de dispositivod eletronicos (em minutos): \"))\n",
        "resultado = verificar_tempo_de_tela(idade, tempo_uso)\n",
        "print(\"\\n\" + resultado)\n",
        "\n",
        "\n",
        "\n",
        "\n",
        "\n"
      ],
      "metadata": {
        "colab": {
          "base_uri": "https://localhost:8080/",
          "height": 111
        },
        "id": "wW2RYQR5v-yw",
        "outputId": "d9f369cc-9dc6-4939-d624-cc381b24ea97"
      },
      "execution_count": 98,
      "outputs": [
        {
          "output_type": "error",
          "ename": "IndentationError",
          "evalue": "unindent does not match any outer indentation level (<tokenize>, line 8)",
          "traceback": [
            "\u001b[0;36m  File \u001b[0;32m\"<tokenize>\"\u001b[0;36m, line \u001b[0;32m8\u001b[0m\n\u001b[0;31m    elif 2 <= 5:\u001b[0m\n\u001b[0m    ^\u001b[0m\n\u001b[0;31mIndentationError\u001b[0m\u001b[0;31m:\u001b[0m unindent does not match any outer indentation level\n"
          ]
        }
      ]
    },
    {
      "cell_type": "code",
      "source": [
        "#15 Elabore um algoritmo que calcule o tempo exato de um voo com escalas. O usuário informa o horário de saída, o tempo de voo e o tempo total de espera em escalas. O sistema deve calcular o horário final de chegada e a duração total da viagem.\n",
        "from datetime import datetime, timedelta\n",
        "def somar_tempos(hora_inicial, tempo_voo, tempo_escala):\n",
        "    hora_final = hora_inicial + timedelta(hours=tempo_voo[0], minutes=tempo_voo[1])\n",
        "    hora_final += timedelta(hours=tempo_escala[0], minutes=tempo_escala[1])\n",
        "    return hora_final\n",
        "print(\"=== Caáculo de Tempo de Voo com Escala ===\")\n",
        "hora_saida_str = input(\"Informe o horario de saida(formato HH:MM): \")\n",
        "hora_saida = datetime.striptime(hora_saida_str, \"%H:%M\")\n",
        "tempo_voo_horas = input(int(\"Informe o tempo de voo (em horas): \"))\n",
        "tempo_voo_minutos = int(input(\"Informe o tempo de voo (em minutos): \"))\n",
        "tempo_escala_horas = int(input(\"Informe o tempo total de espera nas escalas (em horas): \"))\n",
        "tempo_escala_minutos = int(input(\"Informeo tempo toatl de espera nas escalas (em minutos):\"))\n",
        "hora_chegada = somar_tempo(hora_saida, (tempo_voo_horas, tempo_voo_minutos), (tempo_escala_horas, tempo-escala_minutos))\n",
        "duração_total_minutos = (hora_chegada - hora_saida).seconds // 60\n",
        "duração_total_horas = duração_total_minutos // 60\n",
        "duração_total_minutos = duração_total_minutos % 60\n",
        "print(f\"\\Horário de saida: {hora_saida.strftime('%H:%M')}\")\n",
        "print(f\"Horário de chegada: {hora_chegada.striftime('%H:%M')}\")\n",
        "print(f\"Duração total da viagem: {duração_total_horas} horas e {duração_total_minutos} minutos.\")"
      ],
      "metadata": {
        "colab": {
          "base_uri": "https://localhost:8080/",
          "height": 258
        },
        "id": "GRIBZJGy3SpL",
        "outputId": "8e7373ce-183a-4858-fabe-22efc0e9a4ad"
      },
      "execution_count": 2,
      "outputs": [
        {
          "name": "stdout",
          "output_type": "stream",
          "text": [
            "=== Caáculo de Tempo de Voo com Escala ===\n",
            "Informe o horario de saida(formato HH:MM): 13:35\n"
          ]
        },
        {
          "output_type": "error",
          "ename": "AttributeError",
          "evalue": "type object 'datetime.datetime' has no attribute 'striptime'",
          "traceback": [
            "\u001b[0;31m---------------------------------------------------------------------------\u001b[0m",
            "\u001b[0;31mAttributeError\u001b[0m                            Traceback (most recent call last)",
            "\u001b[0;32m<ipython-input-2-72cc68083f2c>\u001b[0m in \u001b[0;36m<cell line: 0>\u001b[0;34m()\u001b[0m\n\u001b[1;32m      7\u001b[0m \u001b[0mprint\u001b[0m\u001b[0;34m(\u001b[0m\u001b[0;34m\"=== Caáculo de Tempo de Voo com Escala ===\"\u001b[0m\u001b[0;34m)\u001b[0m\u001b[0;34m\u001b[0m\u001b[0;34m\u001b[0m\u001b[0m\n\u001b[1;32m      8\u001b[0m \u001b[0mhora_saida_str\u001b[0m \u001b[0;34m=\u001b[0m \u001b[0minput\u001b[0m\u001b[0;34m(\u001b[0m\u001b[0;34m\"Informe o horario de saida(formato HH:MM): \"\u001b[0m\u001b[0;34m)\u001b[0m\u001b[0;34m\u001b[0m\u001b[0;34m\u001b[0m\u001b[0m\n\u001b[0;32m----> 9\u001b[0;31m \u001b[0mhora_saida\u001b[0m \u001b[0;34m=\u001b[0m \u001b[0mdatetime\u001b[0m\u001b[0;34m.\u001b[0m\u001b[0mstriptime\u001b[0m\u001b[0;34m(\u001b[0m\u001b[0mhora_saida_str\u001b[0m\u001b[0;34m,\u001b[0m \u001b[0;34m\"%H:%M\"\u001b[0m\u001b[0;34m)\u001b[0m\u001b[0;34m\u001b[0m\u001b[0;34m\u001b[0m\u001b[0m\n\u001b[0m\u001b[1;32m     10\u001b[0m \u001b[0mtempo_voo_horas\u001b[0m \u001b[0;34m=\u001b[0m \u001b[0minput\u001b[0m\u001b[0;34m(\u001b[0m\u001b[0mint\u001b[0m\u001b[0;34m(\u001b[0m\u001b[0;34m\"Informe o tempo de voo (em horas): \"\u001b[0m\u001b[0;34m)\u001b[0m\u001b[0;34m)\u001b[0m\u001b[0;34m\u001b[0m\u001b[0;34m\u001b[0m\u001b[0m\n\u001b[1;32m     11\u001b[0m \u001b[0mtempo_voo_minutos\u001b[0m \u001b[0;34m=\u001b[0m \u001b[0mint\u001b[0m\u001b[0;34m(\u001b[0m\u001b[0minput\u001b[0m\u001b[0;34m(\u001b[0m\u001b[0;34m\"Informe o tempo de voo (em minutos): \"\u001b[0m\u001b[0;34m)\u001b[0m\u001b[0;34m)\u001b[0m\u001b[0;34m\u001b[0m\u001b[0;34m\u001b[0m\u001b[0m\n",
            "\u001b[0;31mAttributeError\u001b[0m: type object 'datetime.datetime' has no attribute 'striptime'"
          ]
        }
      ]
    },
    {
      "cell_type": "code",
      "source": [
        "#16 Crie um algoritmo que calcule a economia gerada por um desconto progressivo. O usuário informa o valor de uma compra e o sistema aplica descontos por faixa: até R$100 (5%), até R$200 (10%), acima disso (15%). Exiba o valor com desconto e a economia obtida.\n",
        "valor_compra - float(input(\"Digite o valor da compra: R$ \"))\n",
        "desconto_total = 0\n",
        "valor_final = 0\n",
        "if valor_compra <= 100:\n",
        "   desconto_total = valor_compra * 0.05\n",
        "elif valor_compra <= 200:\n",
        "   desconto_total = valor_compra * 0.10\n",
        "   valor_final = valor_compra-desconto_total\n",
        "else:\n",
        "   desconto_total = valor_compra * 0.15\n",
        "   valor_final = valor_compra-desconto_total\n",
        "print(f\"Valor com ddesconto: R$ {valor_final:.2f}\")\n",
        "print(f\"economia: R$ {desconto_total:.2f}\")\n"
      ],
      "metadata": {
        "colab": {
          "base_uri": "https://localhost:8080/",
          "height": 240
        },
        "id": "Llx3-rsDC8h8",
        "outputId": "2300c0f7-8fc0-4d6a-e702-a628808ee172"
      },
      "execution_count": 6,
      "outputs": [
        {
          "output_type": "error",
          "ename": "NameError",
          "evalue": "name 'valor_compra' is not defined",
          "traceback": [
            "\u001b[0;31m---------------------------------------------------------------------------\u001b[0m",
            "\u001b[0;31mNameError\u001b[0m                                 Traceback (most recent call last)",
            "\u001b[0;32m<ipython-input-6-4beb4d227b08>\u001b[0m in \u001b[0;36m<cell line: 0>\u001b[0;34m()\u001b[0m\n\u001b[1;32m      1\u001b[0m \u001b[0;31m#16 Crie um algoritmo que calcule a economia gerada por um desconto progressivo. O usuário informa o valor de uma compra e o sistema aplica descontos por faixa: até R$100 (5%), até R$200 (10%), acima disso (15%). Exiba o valor com desconto e a economia obtida.\u001b[0m\u001b[0;34m\u001b[0m\u001b[0;34m\u001b[0m\u001b[0m\n\u001b[0;32m----> 2\u001b[0;31m \u001b[0mvalor_compra\u001b[0m \u001b[0;34m-\u001b[0m \u001b[0mfloat\u001b[0m\u001b[0;34m(\u001b[0m\u001b[0minput\u001b[0m\u001b[0;34m(\u001b[0m\u001b[0;34m\"Digite o valor da compra: R$ \"\u001b[0m\u001b[0;34m)\u001b[0m\u001b[0;34m)\u001b[0m\u001b[0;34m\u001b[0m\u001b[0;34m\u001b[0m\u001b[0m\n\u001b[0m\u001b[1;32m      3\u001b[0m \u001b[0mdesconto_total\u001b[0m \u001b[0;34m=\u001b[0m \u001b[0;36m0\u001b[0m\u001b[0;34m\u001b[0m\u001b[0;34m\u001b[0m\u001b[0m\n\u001b[1;32m      4\u001b[0m \u001b[0mvalor_final\u001b[0m \u001b[0;34m=\u001b[0m \u001b[0;36m0\u001b[0m\u001b[0;34m\u001b[0m\u001b[0;34m\u001b[0m\u001b[0m\n\u001b[1;32m      5\u001b[0m \u001b[0;32mif\u001b[0m \u001b[0mvalor_compra\u001b[0m \u001b[0;34m<=\u001b[0m \u001b[0;36m100\u001b[0m\u001b[0;34m:\u001b[0m\u001b[0;34m\u001b[0m\u001b[0;34m\u001b[0m\u001b[0m\n",
            "\u001b[0;31mNameError\u001b[0m: name 'valor_compra' is not defined"
          ]
        }
      ]
    },
    {
      "cell_type": "code",
      "source": [
        "#17 Elabore um algoritmo que simule a passagem de anos em um relógio biológico. O usuário informa a idade e o tempo (em anos) em que pretende manter hábitos saudáveis. O sistema deve estimar, com base em dados simulados, quanto de expectativa de vida ele “ganharia” a mais, usando faixas de ganho por período.\n",
        "def calcular_vida_extra():\n",
        "    idade_atual = int(input(\"Digite sua idade atual: \"))\n",
        "    tempo_habitos = int(input(\"Digite o tempo (em anos) que você pretende manter hábitos saudáveis: \"))\n",
        "    if tempo_habitos < 5:\n",
        "        ganho_vida = 2\n",
        "    elif 5 <= tempo_habitos < 10:\n",
        "      ganho_vida = 5\n",
        "    elif 10 <= tempo_habitos < 20:\n",
        "      ganho_vida = 10\n",
        "    else:\n",
        "      ganho_vida = 15\n",
        "    expectativa_vida = 75\n",
        "    nova_expectativa - vida = expectativa_vida + ganho_vida\n",
        "    nova_idade = idade_atual + tempo_habitos\n",
        "    print(f\"\\Sua idade atual é {idade_atual} anos.\")\n",
        "    print(f\"Você pretende manter hábitos saudáveis por {tempo_habitos} anos.\")\n",
        "    print(f\"Com isso, você poderia ganhar {ganho_vida} anos de expectativa de vida!\")\n",
        "    print(f\"Sua nova expectativa de vida estimada seria: {nova_expectativa_vida} anos.\")\n",
        "    print(f\"Você estaria com {nova_vida} anos devida.\")\n",
        "calcular_vida_extra()\n",
        "\n",
        "\n",
        "\n"
      ],
      "metadata": {
        "colab": {
          "base_uri": "https://localhost:8080/",
          "height": 111
        },
        "id": "RBYCN40MHAIE",
        "outputId": "70eecbb0-2b80-4345-a06a-9477d3470636"
      },
      "execution_count": 8,
      "outputs": [
        {
          "output_type": "error",
          "ename": "SyntaxError",
          "evalue": "cannot assign to expression here. Maybe you meant '==' instead of '='? (<ipython-input-8-c6583bfca04b>, line 14)",
          "traceback": [
            "\u001b[0;36m  File \u001b[0;32m\"<ipython-input-8-c6583bfca04b>\"\u001b[0;36m, line \u001b[0;32m14\u001b[0m\n\u001b[0;31m    nova_expectativa - vida = expectativa_vida + ganho_vida\u001b[0m\n\u001b[0m    ^\u001b[0m\n\u001b[0;31mSyntaxError\u001b[0m\u001b[0;31m:\u001b[0m cannot assign to expression here. Maybe you meant '==' instead of '='?\n"
          ]
        }
      ]
    },
    {
      "cell_type": "code",
      "source": [],
      "metadata": {
        "id": "VwEzaGVMLGLn"
      },
      "execution_count": 8,
      "outputs": []
    },
    {
      "cell_type": "code",
      "source": [
        "#18 Crie um algoritmo que simule o horário ideal de sono. O usuário informa a hora em que precisa acordar e o sistema sugere três horários para dormir com base em ciclos de 90 minutos (recomendação médica).\n",
        "from datetime import datetime, timedelta\n",
        "def calcular_horario_ideal()\n",
        "    hora_acordar = impt(\"Digite a hara que você precisa acordar (formato HH:MM): \")\n",
        "    hora_acordar = datetime.strptime(hora_acordar, \"%H:%M\")\n",
        "    ciclos = [1, 2, 3] # ciclos de sono (1 ciclo = 90 minutos)\n",
        "    print(\"\\Sugestões de horários para doemir baseados emciclos de 90 minutos:\")\n",
        "    for ciclos in ciclos:\n",
        "        horas_dormir = horas_acordar - timedelta(minutes = 90 ciclo)\n",
        "        print(f\"Para {ciclo} ciclo(s), você pode dormir às {horas_dormir.striptime('%H:%M')}.\")\n",
        "calcular_horario_ideal()"
      ],
      "metadata": {
        "colab": {
          "base_uri": "https://localhost:8080/",
          "height": 111
        },
        "id": "6__Zt4BsLGNu",
        "outputId": "1e2c7538-faab-4a71-e681-eb50f36a7be6"
      },
      "execution_count": 9,
      "outputs": [
        {
          "output_type": "error",
          "ename": "SyntaxError",
          "evalue": "expected ':' (<ipython-input-9-924849454bf1>, line 3)",
          "traceback": [
            "\u001b[0;36m  File \u001b[0;32m\"<ipython-input-9-924849454bf1>\"\u001b[0;36m, line \u001b[0;32m3\u001b[0m\n\u001b[0;31m    def calcular_horario_ideal()\u001b[0m\n\u001b[0m                                ^\u001b[0m\n\u001b[0;31mSyntaxError\u001b[0m\u001b[0;31m:\u001b[0m expected ':'\n"
          ]
        }
      ]
    },
    {
      "cell_type": "code",
      "source": [
        "#19 Desenvolva um algoritmo que simule uma caminhada virtual. O usuário informa quantos passos dá por minuto e quanto tempo caminhou. O programa calcula quantos quilômetros percorreu, sabendo que 1.300 passos equivalem a 1 km, e fornece uma estimativa de calorias gastas.\n",
        "def simular_caminhada(passos_por_minuto, tempo_miinuto):\n",
        "    total_passos = passos_por_minuto * tempo_minutos\n",
        "    passos_por_km = 130\n",
        "    distância_km = toatl_passoa_por_km\n",
        "    calorias_gastas = distância_km * 50\n",
        "    return total_passos, round(distância_km, 2), round(calorias_gastas, 1)\n",
        "passos = int(input(\"Quantos passos você dá por minuto? \"))\n",
        "tempo = int(input(\"Por quanto tempo você caminhou? (em minutos) \"))\n",
        "total, km, calorias = simular_caminhada(passos, tempo)\n",
        "print(f\"\\Você deu {total} passos.\")\n",
        "print(f\"\\Distância percorrida: {km} km\")\n",
        "print(f\"\\Calorias estimadas: {calorias} kcal\")\n",
        "\n",
        "\n",
        "\n",
        "\n",
        "\n",
        "\n",
        "\n"
      ],
      "metadata": {
        "colab": {
          "base_uri": "https://localhost:8080/",
          "height": 406
        },
        "id": "0wg8M7wFN6TA",
        "outputId": "c23c7bfa-4721-44df-f87e-29d407739cc1"
      },
      "execution_count": 11,
      "outputs": [
        {
          "name": "stdout",
          "output_type": "stream",
          "text": [
            "Quantos passos você dá por minuto? 30\n",
            "Por quanto tempo você caminhou? (em minutos) 10\n"
          ]
        },
        {
          "output_type": "error",
          "ename": "NameError",
          "evalue": "name 'tempo_minutos' is not defined",
          "traceback": [
            "\u001b[0;31m---------------------------------------------------------------------------\u001b[0m",
            "\u001b[0;31mNameError\u001b[0m                                 Traceback (most recent call last)",
            "\u001b[0;32m<ipython-input-11-cdd27a532d04>\u001b[0m in \u001b[0;36m<cell line: 0>\u001b[0;34m()\u001b[0m\n\u001b[1;32m      8\u001b[0m \u001b[0mpassos\u001b[0m \u001b[0;34m=\u001b[0m \u001b[0mint\u001b[0m\u001b[0;34m(\u001b[0m\u001b[0minput\u001b[0m\u001b[0;34m(\u001b[0m\u001b[0;34m\"Quantos passos você dá por minuto? \"\u001b[0m\u001b[0;34m)\u001b[0m\u001b[0;34m)\u001b[0m\u001b[0;34m\u001b[0m\u001b[0;34m\u001b[0m\u001b[0m\n\u001b[1;32m      9\u001b[0m \u001b[0mtempo\u001b[0m \u001b[0;34m=\u001b[0m \u001b[0mint\u001b[0m\u001b[0;34m(\u001b[0m\u001b[0minput\u001b[0m\u001b[0;34m(\u001b[0m\u001b[0;34m\"Por quanto tempo você caminhou? (em minutos) \"\u001b[0m\u001b[0;34m)\u001b[0m\u001b[0;34m)\u001b[0m\u001b[0;34m\u001b[0m\u001b[0;34m\u001b[0m\u001b[0m\n\u001b[0;32m---> 10\u001b[0;31m \u001b[0mtotal\u001b[0m\u001b[0;34m,\u001b[0m \u001b[0mkm\u001b[0m\u001b[0;34m,\u001b[0m \u001b[0mcalorias\u001b[0m \u001b[0;34m=\u001b[0m \u001b[0msimular_caminhada\u001b[0m\u001b[0;34m(\u001b[0m\u001b[0mpassos\u001b[0m\u001b[0;34m,\u001b[0m \u001b[0mtempo\u001b[0m\u001b[0;34m)\u001b[0m\u001b[0;34m\u001b[0m\u001b[0;34m\u001b[0m\u001b[0m\n\u001b[0m\u001b[1;32m     11\u001b[0m \u001b[0mprint\u001b[0m\u001b[0;34m(\u001b[0m\u001b[0;34mf\"\\Você deu {total} passos.\"\u001b[0m\u001b[0;34m)\u001b[0m\u001b[0;34m\u001b[0m\u001b[0;34m\u001b[0m\u001b[0m\n\u001b[1;32m     12\u001b[0m \u001b[0mprint\u001b[0m\u001b[0;34m(\u001b[0m\u001b[0;34mf\"\\Distância percorrida: {km} km\"\u001b[0m\u001b[0;34m)\u001b[0m\u001b[0;34m\u001b[0m\u001b[0;34m\u001b[0m\u001b[0m\n",
            "\u001b[0;32m<ipython-input-11-cdd27a532d04>\u001b[0m in \u001b[0;36msimular_caminhada\u001b[0;34m(passos_por_minuto, tempo_miinuto)\u001b[0m\n\u001b[1;32m      1\u001b[0m \u001b[0;31m#19 Desenvolva um algoritmo que simule uma caminhada virtual. O usuário informa quantos passos dá por minuto e quanto tempo caminhou. O programa calcula quantos quilômetros percorreu, sabendo que 1.300 passos equivalem a 1 km, e fornece uma estimativa de calorias gastas.\u001b[0m\u001b[0;34m\u001b[0m\u001b[0;34m\u001b[0m\u001b[0m\n\u001b[1;32m      2\u001b[0m \u001b[0;32mdef\u001b[0m \u001b[0msimular_caminhada\u001b[0m\u001b[0;34m(\u001b[0m\u001b[0mpassos_por_minuto\u001b[0m\u001b[0;34m,\u001b[0m \u001b[0mtempo_miinuto\u001b[0m\u001b[0;34m)\u001b[0m\u001b[0;34m:\u001b[0m\u001b[0;34m\u001b[0m\u001b[0;34m\u001b[0m\u001b[0m\n\u001b[0;32m----> 3\u001b[0;31m     \u001b[0mtotal_passos\u001b[0m \u001b[0;34m=\u001b[0m \u001b[0mpassos_por_minuto\u001b[0m \u001b[0;34m*\u001b[0m \u001b[0mtempo_minutos\u001b[0m\u001b[0;34m\u001b[0m\u001b[0;34m\u001b[0m\u001b[0m\n\u001b[0m\u001b[1;32m      4\u001b[0m     \u001b[0mpassos_por_km\u001b[0m \u001b[0;34m=\u001b[0m \u001b[0;36m130\u001b[0m\u001b[0;34m\u001b[0m\u001b[0;34m\u001b[0m\u001b[0m\n\u001b[1;32m      5\u001b[0m     \u001b[0mdistância_km\u001b[0m \u001b[0;34m=\u001b[0m \u001b[0mtoatl_passoa_por_km\u001b[0m\u001b[0;34m\u001b[0m\u001b[0;34m\u001b[0m\u001b[0m\n",
            "\u001b[0;31mNameError\u001b[0m: name 'tempo_minutos' is not defined"
          ]
        }
      ]
    },
    {
      "cell_type": "code",
      "source": [],
      "metadata": {
        "id": "WfpgWSECaXo_"
      },
      "execution_count": null,
      "outputs": []
    },
    {
      "cell_type": "code",
      "source": [
        "#20 Elabore um algoritmo que leia a data e hora atual e informe em quanto tempo (em horas e minutos) acontecerá o pôr do sol, considerando que ele ocorrerá às 18h. Se o horário atual for após esse horário, exiba que o sol já se pôs.\n",
        "from datetime import datetime, time, timedelta\n",
        "def tempo_atè_pordosol():\n",
        "    agora = datetime.now():\n",
        "    hoje = agora.date()\n",
        "    horario_pordosol = datetime.combine(hoje, time(18, 0))\n",
        "    if agora < horario_pordosol:\n",
        "       tempo_restante = horario_pordosol - agora\n",
        "       horas, resto = divmod(tempo_rstante.seconds, 3600)\n",
        "       minutos = resto // 60\n",
        "       print(f\"faltam {horas} hora(s)e {minutos} para o pôr do sol.\")\n",
        "    else:\n",
        "      print(f\"O sol já se pôs.\")\n",
        "tempo_ate_pordosol()\n",
        "\n",
        "\n",
        "\n",
        "\n",
        "\n"
      ],
      "metadata": {
        "colab": {
          "base_uri": "https://localhost:8080/",
          "height": 111
        },
        "id": "dCEI5E6daXrE",
        "outputId": "a906cfdd-ce6a-4653-8d8e-fa1a24c1e28c"
      },
      "execution_count": 12,
      "outputs": [
        {
          "output_type": "error",
          "ename": "SyntaxError",
          "evalue": "invalid syntax (<ipython-input-12-5180a733beb5>, line 4)",
          "traceback": [
            "\u001b[0;36m  File \u001b[0;32m\"<ipython-input-12-5180a733beb5>\"\u001b[0;36m, line \u001b[0;32m4\u001b[0m\n\u001b[0;31m    agora = datetime.now():\u001b[0m\n\u001b[0m                          ^\u001b[0m\n\u001b[0;31mSyntaxError\u001b[0m\u001b[0;31m:\u001b[0m invalid syntax\n"
          ]
        }
      ]
    },
    {
      "cell_type": "code",
      "source": [
        "#21 Crie um algoritmo que simule o tempo de preparo de uma refeição. O usuário escolhe 3 pratos (entrada, principal, sobremesa), cada um com seu tempo de preparo. O sistema informa o tempo total e sugere uma ordem de preparo para otimizar o tempo, se possível.\n",
        "def simular_ptreparo_refeição():\n",
        "    print(\"Informe os protos e seus tempos de preparo (em minutos):\")\n",
        "    pratos = []\n",
        "    for tipo in [\"Entrada\", \"Prato principal\", \"Sobremesa\"]:\n",
        "        nome = input(f\"{tipo}: \")\n",
        "        pratos.append({\"tipo\": tipo, \"nome\": nome, \"tempo\": tempo})\n",
        "    tempo_total = sum(prato[\"tempo\"] for prato in pratos)\n",
        "    ordem_otimizada = sorted(pratos, key=lambda x: x[\"tempo\"], reverse=true)\n",
        "    print(\"\\Tempo total de preparo (em sequência):\", tempo_total, \"minutos\")\n",
        "    print(\"\\Sugestão de ordem para otimizar o tempo:\")\n",
        "    for i, prato in enumerate(ordem_otimizada, start=1):\n",
        "        print(f\"({i}) {prato{'tipo'}} - {prato['nome']} ({prato['tempo']} min)\")\n",
        "    print(\"\\Dica: comece pelo mais demorado e vá preparando os outros enquanto ele fica pronto.\")\n",
        "simular_preparo_refeição()\n",
        "\n",
        "\n",
        "\n",
        "\n"
      ],
      "metadata": {
        "colab": {
          "base_uri": "https://localhost:8080/",
          "height": 111
        },
        "id": "xxUV1cXDcqyf",
        "outputId": "11d15e55-0af9-4b0e-d806-d3204728cfc5"
      },
      "execution_count": 16,
      "outputs": [
        {
          "output_type": "error",
          "ename": "SyntaxError",
          "evalue": "f-string: invalid syntax. Perhaps you forgot a comma? (<ipython-input-16-64c0b3b6512d>, line 13)",
          "traceback": [
            "\u001b[0;36m  File \u001b[0;32m\"<ipython-input-16-64c0b3b6512d>\"\u001b[0;36m, line \u001b[0;32m13\u001b[0m\n\u001b[0;31m    print(f\"({i}) {prato{'tipo'}} - {prato['nome']} ({prato['tempo']} min)\")\u001b[0m\n\u001b[0m    ^\u001b[0m\n\u001b[0;31mSyntaxError\u001b[0m\u001b[0;31m:\u001b[0m f-string: invalid syntax. Perhaps you forgot a comma?\n"
          ]
        }
      ]
    },
    {
      "cell_type": "code",
      "source": [
        "#22 Elabore um algoritmo que ajude um motorista a planejar uma viagem de ida e volta. Receba a distância (em km), o tempo de parada previsto na cidade de destino e a velocidade média. Calcule o tempo total da jornada e o tempo disponível para descanso antes do retorno.\n",
        "def planejar_viagem():\n",
        "    distância = float(input(\"Digite a distância até o destino (em km): \"))\n",
        "    tempo_parada = float(input(\"Tempo de parada no destino (em horas): \"))\n",
        "    velocidade_média =float(input(\"Velocidade média da viagem (em km/h): \"))\n",
        "    tempo_volta = distância / velocidade_média\n",
        "    tempo_total = tempo_ida + tempo_parada + tempo_volta\n",
        "    print(\"\\ Planejamento da viagem:\")\n",
        "    print(f\" Tempo de ida: {tempo_ida:.2f} horas\")\n",
        "    print(f\" tempo de parada: {tempo_parada:.2f} horas\")\n",
        "    print(f\" Tempo de volta {tempo_volta:.2f} horas\")\n",
        "    print(f\" Tempo total da jornada: {teempo_total_jornada:.2f} horas\")\n",
        "    tempo_descanso + tempo_parada - tempo_ida\n",
        "    if tempo_descanso > 0:\n",
        "       print(f\"Tempo disponível para descanso antes do retorno: {tempo_descanso:.2f} horas\")\n",
        "    else:\n",
        "       print(\"Não há tempo suficiênte para descanso antes da volta!\")\n",
        "planejar_viagem()\n"
      ],
      "metadata": {
        "colab": {
          "base_uri": "https://localhost:8080/",
          "height": 369
        },
        "id": "Uugh4VFPiPT3",
        "outputId": "f4706808-8dd9-41da-e5c8-1dbe627e0e94"
      },
      "execution_count": 20,
      "outputs": [
        {
          "name": "stdout",
          "output_type": "stream",
          "text": [
            "Digite a distância até o destino (em km): 100\n",
            "Tempo de parada no destino (em horas): 5\n",
            "Velocidade média da viagem (em km/h): 80\n"
          ]
        },
        {
          "output_type": "error",
          "ename": "NameError",
          "evalue": "name 'tempo_ida' is not defined",
          "traceback": [
            "\u001b[0;31m---------------------------------------------------------------------------\u001b[0m",
            "\u001b[0;31mNameError\u001b[0m                                 Traceback (most recent call last)",
            "\u001b[0;32m<ipython-input-20-53a6ab6f607e>\u001b[0m in \u001b[0;36m<cell line: 0>\u001b[0;34m()\u001b[0m\n\u001b[1;32m     16\u001b[0m     \u001b[0;32melse\u001b[0m\u001b[0;34m:\u001b[0m\u001b[0;34m\u001b[0m\u001b[0;34m\u001b[0m\u001b[0m\n\u001b[1;32m     17\u001b[0m        \u001b[0mprint\u001b[0m\u001b[0;34m(\u001b[0m\u001b[0;34m\"Não há tempo suficiênte para descanso antes da volta!\"\u001b[0m\u001b[0;34m)\u001b[0m\u001b[0;34m\u001b[0m\u001b[0;34m\u001b[0m\u001b[0m\n\u001b[0;32m---> 18\u001b[0;31m \u001b[0mplanejar_viagem\u001b[0m\u001b[0;34m(\u001b[0m\u001b[0;34m)\u001b[0m\u001b[0;34m\u001b[0m\u001b[0;34m\u001b[0m\u001b[0m\n\u001b[0m",
            "\u001b[0;32m<ipython-input-20-53a6ab6f607e>\u001b[0m in \u001b[0;36mplanejar_viagem\u001b[0;34m()\u001b[0m\n\u001b[1;32m      5\u001b[0m     \u001b[0mvelocidade_média\u001b[0m \u001b[0;34m=\u001b[0m\u001b[0mfloat\u001b[0m\u001b[0;34m(\u001b[0m\u001b[0minput\u001b[0m\u001b[0;34m(\u001b[0m\u001b[0;34m\"Velocidade média da viagem (em km/h): \"\u001b[0m\u001b[0;34m)\u001b[0m\u001b[0;34m)\u001b[0m\u001b[0;34m\u001b[0m\u001b[0;34m\u001b[0m\u001b[0m\n\u001b[1;32m      6\u001b[0m     \u001b[0mtempo_volta\u001b[0m \u001b[0;34m=\u001b[0m \u001b[0mdistância\u001b[0m \u001b[0;34m/\u001b[0m \u001b[0mvelocidade_média\u001b[0m\u001b[0;34m\u001b[0m\u001b[0;34m\u001b[0m\u001b[0m\n\u001b[0;32m----> 7\u001b[0;31m     \u001b[0mtempo_total\u001b[0m \u001b[0;34m=\u001b[0m \u001b[0mtempo_ida\u001b[0m \u001b[0;34m+\u001b[0m \u001b[0mtempo_parada\u001b[0m \u001b[0;34m+\u001b[0m \u001b[0mtempo_volta\u001b[0m\u001b[0;34m\u001b[0m\u001b[0;34m\u001b[0m\u001b[0m\n\u001b[0m\u001b[1;32m      8\u001b[0m     \u001b[0mprint\u001b[0m\u001b[0;34m(\u001b[0m\u001b[0;34m\"\\ Planejamento da viagem:\"\u001b[0m\u001b[0;34m)\u001b[0m\u001b[0;34m\u001b[0m\u001b[0;34m\u001b[0m\u001b[0m\n\u001b[1;32m      9\u001b[0m     \u001b[0mprint\u001b[0m\u001b[0;34m(\u001b[0m\u001b[0;34mf\" Tempo de ida: {tempo_ida:.2f} horas\"\u001b[0m\u001b[0;34m)\u001b[0m\u001b[0;34m\u001b[0m\u001b[0;34m\u001b[0m\u001b[0m\n",
            "\u001b[0;31mNameError\u001b[0m: name 'tempo_ida' is not defined"
          ]
        }
      ]
    },
    {
      "cell_type": "code",
      "source": [
        "#23 Desenvolva um algoritmo que calcule quantos segundos faltam para o ano novo, recebendo a data e hora atual. O sistema deve considerar se o ano é bissexto ou não.\n",
        "from datetime import datetime\n",
        "def eh_bissexto(ano):\n",
        "    return (ano % 4 == 0 and ano % 100 != 0) or (ano % 400 == 0)\n",
        "def segundos_para_ano_novo():\n",
        "    agora = datetime.now()\n",
        "    ano_atual = agora.year\n",
        "    if eh_bissexto(ano_atual):\n",
        "      print(f\" O ano {ano_atual} é bissexto (366 dias).\")\n",
        "    else:\n",
        "      print(f\" O ano atual {ano_atual} não é bissexto (365 dias).\")\n",
        "    ano_novo = datetime(ano_atual + 1, 1, 1, 0, 0, 0)\n",
        "    segundos_restantes = int((ano_novo - agora).total_seconds())\n",
        "    print(f\" Faltam {segundos_restantes:,} segundos para o Ano Novo!\")\n",
        "segundos_para_ano_novo()\n",
        "\n",
        "\n",
        "\n",
        "\n"
      ],
      "metadata": {
        "colab": {
          "base_uri": "https://localhost:8080/"
        },
        "id": "tNl3rZG9nd9T",
        "outputId": "8654b5c0-4841-4d17-e066-7203390f053e"
      },
      "execution_count": 21,
      "outputs": [
        {
          "output_type": "stream",
          "name": "stdout",
          "text": [
            " O ano atual 2025 não é bissexto (365 dias).\n",
            " Faltam 20,119,084 segundos para o Ano Novo!\n"
          ]
        }
      ]
    },
    {
      "cell_type": "code",
      "source": [
        "#24 Crie um algoritmo que simule a leitura de um termômetro inteligente. O usuário informa temperaturas de manhã, tarde e noite por 5 dias. O sistema deve exibir a maior e menor temperatura da semana, a média geral e se houve risco de insolação (temperaturas acima de 35ºC em dois períodos do mesmo dia).\n",
        "def termometro_simples():\n",
        "    todas_temperaturas = []\n",
        "    risco_insolação = []\n",
        "    for dia in range(1, 6):\n",
        "        print(f\"\\Dia {dia}\")\n",
        "        manhã = float(input(\"Temperatura da manhã: \"))\n",
        "        tarde = float(input(\"Temperatua da tarde: \"))\n",
        "        noite = float(input(\"Temperatura da noite: \"))\n",
        "        dia_temp = [manhã, tarde, noite]\n",
        "        todas_temperaturas == dia_temp\n",
        "        if sum(1 for t in dia_temp if t > 35) >= 2:\n",
        "            risco_insolação.append(dia)\n",
        "    maior = max(todas_temperaturas)\n",
        "    menor = min(todas_temperaturas)\n",
        "    média = sum(todas_temperaturas) / len(todas_temperaturas)\n",
        "    print(\"\\Resultado da semana:\")\n",
        "    print(f\"Maior temperatura: {maior}°C\")\n",
        "    print(f\"Menor temperatura: {menor}°C\")\n",
        "    print(f\"Média geral: {média:.1f}/C\")\n",
        "    if risco_insolação:\n",
        "        print(\" Risco de insolação nos dias:\", \", \".join(str(d) for d in risco_insolação))\n",
        "    else:\n",
        "        print(\" Nenhum risco de insolação.\")\n"
      ],
      "metadata": {
        "id": "nD5tqwWmqe4K"
      },
      "execution_count": 26,
      "outputs": []
    },
    {
      "cell_type": "code",
      "source": [
        "#25 Elabore um algoritmo que simule o deslocamento de um ciclista. O usuário informa a velocidade média (em km/h) e a duração da pedalada em dias diferentes. O programa calcula a distância total percorrida e destaca o dia de maior rendimento.\n",
        "def simular_ciclismo():\n",
        "    num_dias = int(input(\"Quantos dias você pedalou? \"))\n",
        "    distância = [] # Lista para guardar as distâncias de cada dia\n",
        "    for dia in range(1, num_dias + 1):\n",
        "        print(f\"\\ Dia {dia}\")\n",
        "        velocidade = float(input(\"Velocidade média (km/h):\"))\n",
        "        duração = float(input(\"Duração da pedalada (em horas):\"))\n",
        "        distância = velocidade * duração\n",
        "        distância.append(distânca)\n",
        "    distância_total = sum(distãncias)\n",
        "    dia_maior_rendimento = distância.index(max(distâncias)) + 1\n",
        "    maior_distância = max(distâncias)\n",
        "    print(\"\\Relatório de ciclismo:\")\n",
        "    print(f\"Distância total percorrida:{distânci_total:.2f} km\")\n",
        "    print(f\"Maior rendimento: Dia {dia_maior_distância} com {maior_distância:.2f} km\")\n",
        "simular_ciclismo()"
      ],
      "metadata": {
        "colab": {
          "base_uri": "https://localhost:8080/",
          "height": 388
        },
        "id": "HJ2PlYBPuiwa",
        "outputId": "6daad126-5f74-4572-b996-d55c1794a42b"
      },
      "execution_count": 29,
      "outputs": [
        {
          "name": "stdout",
          "output_type": "stream",
          "text": [
            "Quantos dias você pedalou? 5\n",
            "\\ Dia 1\n",
            "Velocidade média (km/h):12\n",
            "Duração da pedalada (em horas):10\n"
          ]
        },
        {
          "output_type": "error",
          "ename": "AttributeError",
          "evalue": "'float' object has no attribute 'append'",
          "traceback": [
            "\u001b[0;31m---------------------------------------------------------------------------\u001b[0m",
            "\u001b[0;31mAttributeError\u001b[0m                            Traceback (most recent call last)",
            "\u001b[0;32m<ipython-input-29-2fc95ba55649>\u001b[0m in \u001b[0;36m<cell line: 0>\u001b[0;34m()\u001b[0m\n\u001b[1;32m     15\u001b[0m     \u001b[0mprint\u001b[0m\u001b[0;34m(\u001b[0m\u001b[0;34mf\"Distância total percorrida:{distânci_total:.2f} km\"\u001b[0m\u001b[0;34m)\u001b[0m\u001b[0;34m\u001b[0m\u001b[0;34m\u001b[0m\u001b[0m\n\u001b[1;32m     16\u001b[0m     \u001b[0mprint\u001b[0m\u001b[0;34m(\u001b[0m\u001b[0;34mf\"Maior rendimento: Dia {dia_maior_distância} com {maior_distância:.2f} km\"\u001b[0m\u001b[0;34m)\u001b[0m\u001b[0;34m\u001b[0m\u001b[0;34m\u001b[0m\u001b[0m\n\u001b[0;32m---> 17\u001b[0;31m \u001b[0msimular_ciclismo\u001b[0m\u001b[0;34m(\u001b[0m\u001b[0;34m)\u001b[0m\u001b[0;34m\u001b[0m\u001b[0;34m\u001b[0m\u001b[0m\n\u001b[0m",
            "\u001b[0;32m<ipython-input-29-2fc95ba55649>\u001b[0m in \u001b[0;36msimular_ciclismo\u001b[0;34m()\u001b[0m\n\u001b[1;32m      8\u001b[0m         \u001b[0mduração\u001b[0m \u001b[0;34m=\u001b[0m \u001b[0mfloat\u001b[0m\u001b[0;34m(\u001b[0m\u001b[0minput\u001b[0m\u001b[0;34m(\u001b[0m\u001b[0;34m\"Duração da pedalada (em horas):\"\u001b[0m\u001b[0;34m)\u001b[0m\u001b[0;34m)\u001b[0m\u001b[0;34m\u001b[0m\u001b[0;34m\u001b[0m\u001b[0m\n\u001b[1;32m      9\u001b[0m         \u001b[0mdistância\u001b[0m \u001b[0;34m=\u001b[0m \u001b[0mvelocidade\u001b[0m \u001b[0;34m*\u001b[0m \u001b[0mduração\u001b[0m\u001b[0;34m\u001b[0m\u001b[0;34m\u001b[0m\u001b[0m\n\u001b[0;32m---> 10\u001b[0;31m         \u001b[0mdistância\u001b[0m\u001b[0;34m.\u001b[0m\u001b[0mappend\u001b[0m\u001b[0;34m(\u001b[0m\u001b[0mdistânca\u001b[0m\u001b[0;34m)\u001b[0m\u001b[0;34m\u001b[0m\u001b[0;34m\u001b[0m\u001b[0m\n\u001b[0m\u001b[1;32m     11\u001b[0m     \u001b[0mdistância_total\u001b[0m \u001b[0;34m=\u001b[0m \u001b[0msum\u001b[0m\u001b[0;34m(\u001b[0m\u001b[0mdistãncias\u001b[0m\u001b[0;34m)\u001b[0m\u001b[0;34m\u001b[0m\u001b[0;34m\u001b[0m\u001b[0m\n\u001b[1;32m     12\u001b[0m     \u001b[0mdia_maior_rendimento\u001b[0m \u001b[0;34m=\u001b[0m \u001b[0mdistância\u001b[0m\u001b[0;34m.\u001b[0m\u001b[0mindex\u001b[0m\u001b[0;34m(\u001b[0m\u001b[0mmax\u001b[0m\u001b[0;34m(\u001b[0m\u001b[0mdistâncias\u001b[0m\u001b[0;34m)\u001b[0m\u001b[0;34m)\u001b[0m \u001b[0;34m+\u001b[0m \u001b[0;36m1\u001b[0m\u001b[0;34m\u001b[0m\u001b[0;34m\u001b[0m\u001b[0m\n",
            "\u001b[0;31mAttributeError\u001b[0m: 'float' object has no attribute 'append'"
          ]
        }
      ]
    },
    {
      "cell_type": "code",
      "source": [
        "#26 Crie um algoritmo que simule o registro de tempo de uso de energia por aparelhos domésticos. Para três aparelhos, o usuário informa a potência (em watts) e o tempo de uso diário (em horas). O sistema deve calcular o consumo mensal (em kWh) de cada aparelho e o total da residência.\n",
        "def calcula_consumo_energia():\n",
        "    aparelhos = []\n",
        "    total_consumo = 0\n",
        "    for i in range(1, 4):\n",
        "        print(f\"\\ Aparelho {i}\")\n",
        "        nome = input(\"Nome do aparelho: \")\n",
        "        potência = float(\"Potência (W): \")\n",
        "        horas_por_dia = float(input(\"Tempo de uso diário (horas): \"))\n",
        "        consumo_mensal = (potência * horas_por_dia * 30) / 1000 # em kwh\n",
        "        aparelhos.append((nome, consumo_mensal))\n",
        "    print(\"\\ Consumo de Energia (Mensal):\")\n",
        "    for nome, consumo in aparelhos:\n",
        "        print(f\"- {nome}: {consumo:.2f} kwh\")\n",
        "    print(f\"\\Consumo total da residência: {total_consumo:.2f} kwh\")\n",
        "calcula_consumo_energia()\n",
        "\n",
        "\n",
        "\n"
      ],
      "metadata": {
        "colab": {
          "base_uri": "https://localhost:8080/",
          "height": 388
        },
        "id": "eBgw2oWtyNCz",
        "outputId": "70d5e592-c6b6-4991-a7c1-c1597998c1ab"
      },
      "execution_count": 34,
      "outputs": [
        {
          "name": "stdout",
          "output_type": "stream",
          "text": [
            "\\ Aparelho 1\n",
            "Nome do aparelho: chuveiro\n"
          ]
        },
        {
          "output_type": "error",
          "ename": "ValueError",
          "evalue": "could not convert string to float: 'Potência (W): '",
          "traceback": [
            "\u001b[0;31m---------------------------------------------------------------------------\u001b[0m",
            "\u001b[0;31mValueError\u001b[0m                                Traceback (most recent call last)",
            "\u001b[0;32m<ipython-input-34-bab88bcb79ac>\u001b[0m in \u001b[0;36m<cell line: 0>\u001b[0;34m()\u001b[0m\n\u001b[1;32m     14\u001b[0m         \u001b[0mprint\u001b[0m\u001b[0;34m(\u001b[0m\u001b[0;34mf\"- {nome}: {consumo:.2f} kwh\"\u001b[0m\u001b[0;34m)\u001b[0m\u001b[0;34m\u001b[0m\u001b[0;34m\u001b[0m\u001b[0m\n\u001b[1;32m     15\u001b[0m     \u001b[0mprint\u001b[0m\u001b[0;34m(\u001b[0m\u001b[0;34mf\"\\Consumo total da residência: {total_consumo:.2f} kwh\"\u001b[0m\u001b[0;34m)\u001b[0m\u001b[0;34m\u001b[0m\u001b[0;34m\u001b[0m\u001b[0m\n\u001b[0;32m---> 16\u001b[0;31m \u001b[0mcalcula_consumo_energia\u001b[0m\u001b[0;34m(\u001b[0m\u001b[0;34m)\u001b[0m\u001b[0;34m\u001b[0m\u001b[0;34m\u001b[0m\u001b[0m\n\u001b[0m\u001b[1;32m     17\u001b[0m \u001b[0;34m\u001b[0m\u001b[0m\n\u001b[1;32m     18\u001b[0m \u001b[0;34m\u001b[0m\u001b[0m\n",
            "\u001b[0;32m<ipython-input-34-bab88bcb79ac>\u001b[0m in \u001b[0;36mcalcula_consumo_energia\u001b[0;34m()\u001b[0m\n\u001b[1;32m      6\u001b[0m         \u001b[0mprint\u001b[0m\u001b[0;34m(\u001b[0m\u001b[0;34mf\"\\ Aparelho {i}\"\u001b[0m\u001b[0;34m)\u001b[0m\u001b[0;34m\u001b[0m\u001b[0;34m\u001b[0m\u001b[0m\n\u001b[1;32m      7\u001b[0m         \u001b[0mnome\u001b[0m \u001b[0;34m=\u001b[0m \u001b[0minput\u001b[0m\u001b[0;34m(\u001b[0m\u001b[0;34m\"Nome do aparelho: \"\u001b[0m\u001b[0;34m)\u001b[0m\u001b[0;34m\u001b[0m\u001b[0;34m\u001b[0m\u001b[0m\n\u001b[0;32m----> 8\u001b[0;31m         \u001b[0mpotência\u001b[0m \u001b[0;34m=\u001b[0m \u001b[0mfloat\u001b[0m\u001b[0;34m(\u001b[0m\u001b[0;34m\"Potência (W): \"\u001b[0m\u001b[0;34m)\u001b[0m\u001b[0;34m\u001b[0m\u001b[0;34m\u001b[0m\u001b[0m\n\u001b[0m\u001b[1;32m      9\u001b[0m         \u001b[0mhoras_por_dia\u001b[0m \u001b[0;34m=\u001b[0m \u001b[0mfloat\u001b[0m\u001b[0;34m(\u001b[0m\u001b[0minput\u001b[0m\u001b[0;34m(\u001b[0m\u001b[0;34m\"Tempo de uso diário (horas): \"\u001b[0m\u001b[0;34m)\u001b[0m\u001b[0;34m)\u001b[0m\u001b[0;34m\u001b[0m\u001b[0;34m\u001b[0m\u001b[0m\n\u001b[1;32m     10\u001b[0m         \u001b[0mconsumo_mensal\u001b[0m \u001b[0;34m=\u001b[0m \u001b[0;34m(\u001b[0m\u001b[0mpotência\u001b[0m \u001b[0;34m*\u001b[0m \u001b[0mhoras_por_dia\u001b[0m \u001b[0;34m*\u001b[0m \u001b[0;36m30\u001b[0m\u001b[0;34m)\u001b[0m \u001b[0;34m/\u001b[0m \u001b[0;36m1000\u001b[0m \u001b[0;31m# em kwh\u001b[0m\u001b[0;34m\u001b[0m\u001b[0;34m\u001b[0m\u001b[0m\n",
            "\u001b[0;31mValueError\u001b[0m: could not convert string to float: 'Potência (W): '"
          ]
        }
      ]
    },
    {
      "cell_type": "code",
      "source": [
        "#27 Desenvolva um algoritmo que receba a hora e minuto em que um paciente tomou um remédio e calcule os próximos 3 horários ideais para as próximas doses, considerando que o medicamento deve ser tomado a cada 8 horas.\n",
        "from datetime import datetime, timedelta\n",
        "def calcular_proximas_doses():\n",
        "    hora + int(input(\"Informe a hora da primeira dose (0-23): \"))\n",
        "    minuto = int(input(\"Informar os minutos da primeira dose (0-59): \"))\n",
        "    primeira_dose = datetime.combine(datetime.today(), datetime.min.time()).replace(hour=hora, minute=minuto)\n",
        "    print(\"\\Proximos horários para tomar o remédio:\")\n",
        "    for i in range(1, 4):\n",
        "        proxima_dose = primeira_dose + timedelta(hours=8 * i)\n",
        "        print(f\"Dose {i+1}: {proxima_dose.strftime('%H:%M')}\")\n",
        "\n",
        "calcular_proxima_dose()\n",
        "\n",
        "\n",
        "\n",
        "\n",
        "\n",
        "\n"
      ],
      "metadata": {
        "colab": {
          "base_uri": "https://localhost:8080/",
          "height": 351
        },
        "id": "m8b92rsu2Zdy",
        "outputId": "fa95ff6f-76fe-4abb-9c5a-9da40d0acfe1"
      },
      "execution_count": 42,
      "outputs": [
        {
          "output_type": "error",
          "ename": "NameError",
          "evalue": "name 'hora' is not defined",
          "traceback": [
            "\u001b[0;31m---------------------------------------------------------------------------\u001b[0m",
            "\u001b[0;31mNameError\u001b[0m                                 Traceback (most recent call last)",
            "\u001b[0;32m<ipython-input-42-28e4bc6303e4>\u001b[0m in \u001b[0;36m<cell line: 0>\u001b[0;34m()\u001b[0m\n\u001b[1;32m     10\u001b[0m         \u001b[0mprint\u001b[0m\u001b[0;34m(\u001b[0m\u001b[0;34mf\"Dose {i+1}: {proxima_dose.strftime('%H:%M')}\"\u001b[0m\u001b[0;34m)\u001b[0m\u001b[0;34m\u001b[0m\u001b[0;34m\u001b[0m\u001b[0m\n\u001b[1;32m     11\u001b[0m \u001b[0;34m\u001b[0m\u001b[0m\n\u001b[0;32m---> 12\u001b[0;31m \u001b[0mcalcular_proxima_dose\u001b[0m\u001b[0;34m(\u001b[0m\u001b[0;34m)\u001b[0m\u001b[0;34m\u001b[0m\u001b[0;34m\u001b[0m\u001b[0m\n\u001b[0m\u001b[1;32m     13\u001b[0m \u001b[0;34m\u001b[0m\u001b[0m\n\u001b[1;32m     14\u001b[0m \u001b[0;34m\u001b[0m\u001b[0m\n",
            "\u001b[0;32m<ipython-input-41-fbbb27145855>\u001b[0m in \u001b[0;36mcalcular_proxima_dose\u001b[0;34m()\u001b[0m\n\u001b[1;32m      2\u001b[0m \u001b[0;32mfrom\u001b[0m \u001b[0mdatetime\u001b[0m \u001b[0;32mimport\u001b[0m \u001b[0mdatetime\u001b[0m\u001b[0;34m,\u001b[0m \u001b[0mtimedelta\u001b[0m\u001b[0;34m\u001b[0m\u001b[0;34m\u001b[0m\u001b[0m\n\u001b[1;32m      3\u001b[0m \u001b[0;32mdef\u001b[0m \u001b[0mcalcular_proxima_dose\u001b[0m\u001b[0;34m(\u001b[0m\u001b[0;34m)\u001b[0m\u001b[0;34m:\u001b[0m\u001b[0;34m\u001b[0m\u001b[0;34m\u001b[0m\u001b[0m\n\u001b[0;32m----> 4\u001b[0;31m     \u001b[0mhora\u001b[0m \u001b[0;34m+\u001b[0m \u001b[0mint\u001b[0m\u001b[0;34m(\u001b[0m\u001b[0minput\u001b[0m\u001b[0;34m(\u001b[0m\u001b[0;34m\"Informe a hora da primeira dose (0-23): \"\u001b[0m\u001b[0;34m)\u001b[0m\u001b[0;34m)\u001b[0m\u001b[0;34m\u001b[0m\u001b[0;34m\u001b[0m\u001b[0m\n\u001b[0m\u001b[1;32m      5\u001b[0m     \u001b[0mminuto\u001b[0m \u001b[0;34m=\u001b[0m \u001b[0mint\u001b[0m\u001b[0;34m(\u001b[0m\u001b[0minput\u001b[0m\u001b[0;34m(\u001b[0m\u001b[0;34m\"Informar os minutos da primeira dose (0-59): \"\u001b[0m\u001b[0;34m)\u001b[0m\u001b[0;34m)\u001b[0m\u001b[0;34m\u001b[0m\u001b[0;34m\u001b[0m\u001b[0m\n\u001b[1;32m      6\u001b[0m     \u001b[0mprimeira_dose\u001b[0m \u001b[0;34m=\u001b[0m \u001b[0mdatetime\u001b[0m\u001b[0;34m.\u001b[0m\u001b[0mcombine\u001b[0m\u001b[0;34m(\u001b[0m\u001b[0mdatetime\u001b[0m\u001b[0;34m.\u001b[0m\u001b[0mtoday\u001b[0m\u001b[0;34m(\u001b[0m\u001b[0;34m)\u001b[0m\u001b[0;34m,\u001b[0m \u001b[0mdatetime\u001b[0m\u001b[0;34m.\u001b[0m\u001b[0mmin\u001b[0m\u001b[0;34m.\u001b[0m\u001b[0mtime\u001b[0m\u001b[0;34m(\u001b[0m\u001b[0;34m)\u001b[0m\u001b[0;34m)\u001b[0m\u001b[0;34m.\u001b[0m\u001b[0mreplace\u001b[0m\u001b[0;34m(\u001b[0m\u001b[0mhour\u001b[0m\u001b[0;34m=\u001b[0m\u001b[0mhora\u001b[0m\u001b[0;34m,\u001b[0m \u001b[0mminute\u001b[0m\u001b[0;34m=\u001b[0m\u001b[0mminuto\u001b[0m\u001b[0;34m)\u001b[0m\u001b[0;34m\u001b[0m\u001b[0;34m\u001b[0m\u001b[0m\n",
            "\u001b[0;31mNameError\u001b[0m: name 'hora' is not defined"
          ]
        }
      ]
    },
    {
      "cell_type": "code",
      "source": [
        "#28 Elabore um algoritmo que receba a hora atual e diga quanto tempo falta para o início de um filme, que sempre começa às 20h em ponto. Se já passou desse horário, informe quanto tempo de filme a pessoa perdeu, assumindo que o filme tem 2h de duração.\n",
        "from datetime import datetime, timedelta\n",
        "def tempo_para_filme():\n",
        "    hora = int(input(\"Informe a hora atual (0-23): \"))\n",
        "    minuto = int(input(\"Informe os minutos atuais (0-59): \"))\n",
        "    agora = datetiem.combine(datetime.today(), datetime.min.time()). replace(hour=horas, minute=minuto)\n",
        "    inicio_filme = datetime.combine(datetime.today(), datetime.min.time()).replace(hour=20, minute=0)\n",
        "    fim_filme = inicio_filme + timedelta(hours=2)\n",
        "    if agora < inicio_filme:\n",
        "       tempo_falta = inicio_filme - agora\n",
        "       horas, resto = divmod(tempo_falta.seconds, 3600)\n",
        "       minutos = resto // 60\n",
        "       print(f\" Você perdeu {horas} hora(s) e {minutos} minuto(s) do filme.\")\n",
        "    else:\n",
        "      print(\" O filme já terminou.\")\n",
        "tempo_para_filme()\n",
        "\n",
        "\n",
        "\n"
      ],
      "metadata": {
        "colab": {
          "base_uri": "https://localhost:8080/",
          "height": 388
        },
        "id": "mDznhg5t6CvD",
        "outputId": "465e09e5-938f-4d9d-ee2d-f1519dad03ba"
      },
      "execution_count": 43,
      "outputs": [
        {
          "name": "stdout",
          "output_type": "stream",
          "text": [
            "Informe a hora atual (0-23): 7\n",
            "Informe os minutos atuais (0-59): 15\n"
          ]
        },
        {
          "output_type": "error",
          "ename": "NameError",
          "evalue": "name 'datetiem' is not defined",
          "traceback": [
            "\u001b[0;31m---------------------------------------------------------------------------\u001b[0m",
            "\u001b[0;31mNameError\u001b[0m                                 Traceback (most recent call last)",
            "\u001b[0;32m<ipython-input-43-0bf422f320e1>\u001b[0m in \u001b[0;36m<cell line: 0>\u001b[0;34m()\u001b[0m\n\u001b[1;32m     14\u001b[0m     \u001b[0;32melse\u001b[0m\u001b[0;34m:\u001b[0m\u001b[0;34m\u001b[0m\u001b[0;34m\u001b[0m\u001b[0m\n\u001b[1;32m     15\u001b[0m       \u001b[0mprint\u001b[0m\u001b[0;34m(\u001b[0m\u001b[0;34m\" O filme já terminou.\"\u001b[0m\u001b[0;34m)\u001b[0m\u001b[0;34m\u001b[0m\u001b[0;34m\u001b[0m\u001b[0m\n\u001b[0;32m---> 16\u001b[0;31m \u001b[0mtempo_para_filme\u001b[0m\u001b[0;34m(\u001b[0m\u001b[0;34m)\u001b[0m\u001b[0;34m\u001b[0m\u001b[0;34m\u001b[0m\u001b[0m\n\u001b[0m\u001b[1;32m     17\u001b[0m \u001b[0;34m\u001b[0m\u001b[0m\n\u001b[1;32m     18\u001b[0m \u001b[0;34m\u001b[0m\u001b[0m\n",
            "\u001b[0;32m<ipython-input-43-0bf422f320e1>\u001b[0m in \u001b[0;36mtempo_para_filme\u001b[0;34m()\u001b[0m\n\u001b[1;32m      4\u001b[0m     \u001b[0mhora\u001b[0m \u001b[0;34m=\u001b[0m \u001b[0mint\u001b[0m\u001b[0;34m(\u001b[0m\u001b[0minput\u001b[0m\u001b[0;34m(\u001b[0m\u001b[0;34m\"Informe a hora atual (0-23): \"\u001b[0m\u001b[0;34m)\u001b[0m\u001b[0;34m)\u001b[0m\u001b[0;34m\u001b[0m\u001b[0;34m\u001b[0m\u001b[0m\n\u001b[1;32m      5\u001b[0m     \u001b[0mminuto\u001b[0m \u001b[0;34m=\u001b[0m \u001b[0mint\u001b[0m\u001b[0;34m(\u001b[0m\u001b[0minput\u001b[0m\u001b[0;34m(\u001b[0m\u001b[0;34m\"Informe os minutos atuais (0-59): \"\u001b[0m\u001b[0;34m)\u001b[0m\u001b[0;34m)\u001b[0m\u001b[0;34m\u001b[0m\u001b[0;34m\u001b[0m\u001b[0m\n\u001b[0;32m----> 6\u001b[0;31m     \u001b[0magora\u001b[0m \u001b[0;34m=\u001b[0m \u001b[0mdatetiem\u001b[0m\u001b[0;34m.\u001b[0m\u001b[0mcombine\u001b[0m\u001b[0;34m(\u001b[0m\u001b[0mdatetime\u001b[0m\u001b[0;34m.\u001b[0m\u001b[0mtoday\u001b[0m\u001b[0;34m(\u001b[0m\u001b[0;34m)\u001b[0m\u001b[0;34m,\u001b[0m \u001b[0mdatetime\u001b[0m\u001b[0;34m.\u001b[0m\u001b[0mmin\u001b[0m\u001b[0;34m.\u001b[0m\u001b[0mtime\u001b[0m\u001b[0;34m(\u001b[0m\u001b[0;34m)\u001b[0m\u001b[0;34m)\u001b[0m\u001b[0;34m.\u001b[0m \u001b[0mreplace\u001b[0m\u001b[0;34m(\u001b[0m\u001b[0mhour\u001b[0m\u001b[0;34m=\u001b[0m\u001b[0mhoras\u001b[0m\u001b[0;34m,\u001b[0m \u001b[0mminute\u001b[0m\u001b[0;34m=\u001b[0m\u001b[0mminuto\u001b[0m\u001b[0;34m)\u001b[0m\u001b[0;34m\u001b[0m\u001b[0;34m\u001b[0m\u001b[0m\n\u001b[0m\u001b[1;32m      7\u001b[0m     \u001b[0minicio_filme\u001b[0m \u001b[0;34m=\u001b[0m \u001b[0mdatetime\u001b[0m\u001b[0;34m.\u001b[0m\u001b[0mcombine\u001b[0m\u001b[0;34m(\u001b[0m\u001b[0mdatetime\u001b[0m\u001b[0;34m.\u001b[0m\u001b[0mtoday\u001b[0m\u001b[0;34m(\u001b[0m\u001b[0;34m)\u001b[0m\u001b[0;34m,\u001b[0m \u001b[0mdatetime\u001b[0m\u001b[0;34m.\u001b[0m\u001b[0mmin\u001b[0m\u001b[0;34m.\u001b[0m\u001b[0mtime\u001b[0m\u001b[0;34m(\u001b[0m\u001b[0;34m)\u001b[0m\u001b[0;34m)\u001b[0m\u001b[0;34m.\u001b[0m\u001b[0mreplace\u001b[0m\u001b[0;34m(\u001b[0m\u001b[0mhour\u001b[0m\u001b[0;34m=\u001b[0m\u001b[0;36m20\u001b[0m\u001b[0;34m,\u001b[0m \u001b[0mminute\u001b[0m\u001b[0;34m=\u001b[0m\u001b[0;36m0\u001b[0m\u001b[0;34m)\u001b[0m\u001b[0;34m\u001b[0m\u001b[0;34m\u001b[0m\u001b[0m\n\u001b[1;32m      8\u001b[0m     \u001b[0mfim_filme\u001b[0m \u001b[0;34m=\u001b[0m \u001b[0minicio_filme\u001b[0m \u001b[0;34m+\u001b[0m \u001b[0mtimedelta\u001b[0m\u001b[0;34m(\u001b[0m\u001b[0mhours\u001b[0m\u001b[0;34m=\u001b[0m\u001b[0;36m2\u001b[0m\u001b[0;34m)\u001b[0m\u001b[0;34m\u001b[0m\u001b[0;34m\u001b[0m\u001b[0m\n",
            "\u001b[0;31mNameError\u001b[0m: name 'datetiem' is not defined"
          ]
        }
      ]
    },
    {
      "cell_type": "code",
      "source": [
        "#29 Crie um algoritmo que ajude a calcular o tempo ideal de estudo. O usuário informa o total de horas disponíveis na semana e a quantidade de disciplinas. O sistema calcula quantas horas deve dedicar a cada matéria e alerta se alguma ficar com menos de 1h.\n",
        "def calcular_tempo_estudo():\n",
        "    horas_semana = float(input(\"Quantas horas dispoiníveis você tem na semana para estudar? \"))\n",
        "    num_disciplinas = int(input(\"Quantas disciplinas você queer estudar? \"))\n",
        "    if num_disciplinas <= 0:\n",
        "      print (\" Número de disciplinas inválido.\")\n",
        "      return\n",
        "    horas_por_disciplina = horas_semana / num_disciplinas\n",
        "    print(\"\\ Distribuição de tempo por disciplina:\")\n",
        "    for i in range(1, num_disciplinas + 1):\n",
        "        print(f\"Disciplina {i}: {horas_por_disciplina:.2f} horas\")\n",
        "        if horas_por_disciplina < 1:\n",
        "            print(\" Alerta: Menos de 1h de estudo para essa disciplina!\")\n",
        "calcular_tempo_estudo()\n",
        "\n",
        "\n"
      ],
      "metadata": {
        "colab": {
          "base_uri": "https://localhost:8080/"
        },
        "id": "FkK6PX7P-U32",
        "outputId": "5e6272bb-c840-45ec-f8c3-4249fce5e9e8"
      },
      "execution_count": 46,
      "outputs": [
        {
          "output_type": "stream",
          "name": "stdout",
          "text": [
            "Quantas horas dispoiníveis você tem na semana para estudar? 10\n",
            "Quantas disciplinas você queer estudar? 4\n",
            "\\ Distribuição de tempo por disciplina:\n",
            "Disciplina 1: 2.50 horas\n",
            "Disciplina 2: 2.50 horas\n",
            "Disciplina 3: 2.50 horas\n",
            "Disciplina 4: 2.50 horas\n"
          ]
        }
      ]
    },
    {
      "cell_type": "code",
      "source": [
        "#30 Desenvolva um algoritmo que simule o acompanhamento de produtividade de um trabalhador remoto. Receba o número de tarefas concluídas por dia durante 5 dias e calcule a média. Se a produtividade cair por dois dias consecutivos, o sistema emite um alerta.\n",
        "def acompanhar_produtivifdade():\n",
        "    tarefas = []\n",
        "    print(\"Informe o número de tarefas concluídas por dia (5 dias):\")\n",
        "    for dia in range(1, 6):\n",
        "        concluido = int(input(f\"Dia {dia}: \"))\n",
        "        tarefas.append(concluido)\n",
        "    média = sum(tarefas) / len(tarefas)\n",
        "    print(f\"\\ média de tarefas por dia: {media:.2f}\")\n",
        "    alerta = false\n",
        "    for i in range(1, len(tarefas) - 1):\n",
        "        if tarefas[1] < tarefa[i - 1] and tarefas[i + 1] < tarefas[i]:\n",
        "           alerta = true\n",
        "           break\n",
        "    if alerta:\n",
        "        print(\"Alerta: Queda de produtividade detectada por dois dias consecutivos.\")\n",
        "acompanhar_produtividade()\n",
        "\n",
        "\n",
        "\n",
        "\n"
      ],
      "metadata": {
        "colab": {
          "base_uri": "https://localhost:8080/",
          "height": 222
        },
        "id": "RsoQaauoBxqg",
        "outputId": "10b7d828-5ca6-4038-fc55-da6c57fcd791"
      },
      "execution_count": 47,
      "outputs": [
        {
          "output_type": "error",
          "ename": "NameError",
          "evalue": "name 'acompanhar_produtividade' is not defined",
          "traceback": [
            "\u001b[0;31m---------------------------------------------------------------------------\u001b[0m",
            "\u001b[0;31mNameError\u001b[0m                                 Traceback (most recent call last)",
            "\u001b[0;32m<ipython-input-47-95e96053b2f4>\u001b[0m in \u001b[0;36m<cell line: 0>\u001b[0;34m()\u001b[0m\n\u001b[1;32m     15\u001b[0m     \u001b[0;32mif\u001b[0m \u001b[0malerta\u001b[0m\u001b[0;34m:\u001b[0m\u001b[0;34m\u001b[0m\u001b[0;34m\u001b[0m\u001b[0m\n\u001b[1;32m     16\u001b[0m         \u001b[0mprint\u001b[0m\u001b[0;34m(\u001b[0m\u001b[0;34m\"Alerta: Queda de produtividade detectada por dois dias consecutivos.\"\u001b[0m\u001b[0;34m)\u001b[0m\u001b[0;34m\u001b[0m\u001b[0;34m\u001b[0m\u001b[0m\n\u001b[0;32m---> 17\u001b[0;31m \u001b[0macompanhar_produtividade\u001b[0m\u001b[0;34m(\u001b[0m\u001b[0;34m)\u001b[0m\u001b[0;34m\u001b[0m\u001b[0;34m\u001b[0m\u001b[0m\n\u001b[0m\u001b[1;32m     18\u001b[0m \u001b[0;34m\u001b[0m\u001b[0m\n\u001b[1;32m     19\u001b[0m \u001b[0;34m\u001b[0m\u001b[0m\n",
            "\u001b[0;31mNameError\u001b[0m: name 'acompanhar_produtividade' is not defined"
          ]
        }
      ]
    }
  ]
}